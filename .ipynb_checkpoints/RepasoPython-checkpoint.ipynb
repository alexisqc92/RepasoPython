{
 "cells": [
  {
   "cell_type": "markdown",
   "id": "f65f8e05",
   "metadata": {},
   "source": [
    "<h1 style=\"text-align:center\"><u>Repaso de Python</u></h1>\n",
    "<img src=\"https://www.python.org/static/community_logos/python-logo-master-v3-TM-flattened.png\">"
   ]
  },
  {
   "cell_type": "markdown",
   "id": "3a0bc636",
   "metadata": {},
   "source": [
    "<h2>1)<u> Opciones de Jupyter Notebook</u></h2>\n",
    "<h4> Opciones de Celdas </h4>\n",
    "<ul>\n",
    "  <li>Code</li>\n",
    "  <li>Markdown</li>\n",
    "  <li>Heading</li>\n",
    "  <li>Raw NBConvert</li>\n",
    "</ul>\n",
    "\n",
    "<h4> Shortcuts Importantes</h4>\n",
    "<ul>\n",
    "  <li>Shift + Enter: Permite ejecutar la celda actual</li>\n",
    "  <li>Ctrl + Enter: Ejecuta las celdas seleccionadas</li>\n",
    "  <li>Alt + Enter: Ejecuta la celda actual, e inserta una nueva celda debajo de la celda actual</li>\n",
    "  <li>A: Inserta una nueva celda encima  de la celda actual</li>\n",
    "  <li>B: Inserta una nueva celda debajo de la celda actual</li>\n",
    "  <li>D (presionar dos veces): Elimina la celda</li>\n",
    "  <li>H: Muestra todos los shortcuts</li>\n",
    "</ul>\n",
    "<i style=\"color:red\">*Para ejecutar los shortcuts no se debe de tener la celda seleccionada</i>"
   ]
  },
  {
   "cell_type": "markdown",
   "id": "4ccbb6c7",
   "metadata": {},
   "source": [
    "<h2>2)<u> Repaso Python</u></h2>"
   ]
  },
  {
   "cell_type": "markdown",
   "id": "d15501e4",
   "metadata": {},
   "source": [
    "### Comentarios"
   ]
  },
  {
   "cell_type": "code",
   "execution_count": 5,
   "id": "a950b755",
   "metadata": {},
   "outputs": [
    {
     "data": {
      "text/plain": [
       "range(0, 10)"
      ]
     },
     "execution_count": 5,
     "metadata": {},
     "output_type": "execute_result"
    }
   ],
   "source": [
    "# La siguiente función genera números en un rango determinado\n",
    "range(10)"
   ]
  },
  {
   "cell_type": "markdown",
   "id": "21e97074",
   "metadata": {},
   "source": [
    "### Imprimir datos por pantalla"
   ]
  },
  {
   "cell_type": "code",
   "execution_count": 6,
   "id": "09497100",
   "metadata": {},
   "outputs": [
    {
     "name": "stdout",
     "output_type": "stream",
     "text": [
      "Hola Mundo\n"
     ]
    }
   ],
   "source": [
    "# La siguiente función realizara un print de Hola Mundo\n",
    "print(\"Hola Mundo\")"
   ]
  },
  {
   "cell_type": "code",
   "execution_count": 8,
   "id": "de11c02a",
   "metadata": {},
   "outputs": [
    {
     "name": "stdout",
     "output_type": "stream",
     "text": [
      "Hola Mundo De Nuevo\n"
     ]
    }
   ],
   "source": [
    "print(\"Hola Mundo\",\"De Nuevo\")"
   ]
  },
  {
   "cell_type": "markdown",
   "id": "b3b2c6a0",
   "metadata": {},
   "source": [
    "### Parametros de la función print\n",
    "<table>\n",
    "  <tr>\n",
    "    <th>Parametro</th>\n",
    "    <th>Descripción</th>\n",
    "  </tr>\n",
    "  <tr>\n",
    "    <td>sep='separator'</td>\n",
    "    <td>Permite especificar el separador utilizado, el default es ' '</td>\n",
    "  </tr>\n",
    "  <tr>\n",
    "    <td>end='end'</td>\n",
    "    <td>Permite especificar el valor final utilizado, el default es '\\n'</td>\n",
    "  </tr>\n",
    "  <tr>\n",
    "    <td>file</td>\n",
    "    <td>Permite escribir el objeto. Por default es sys.stdout pero se puede especificar un archivo</td>\n",
    "  </tr>\n",
    "  <tr>\n",
    "    <td>flush</td>\n",
    "    <td>Booleano, permite especificar si el buffer interno es eliminado o no </td>\n",
    "  </tr>\n",
    "</table>"
   ]
  },
  {
   "cell_type": "code",
   "execution_count": 9,
   "id": "ea1b9ae2",
   "metadata": {},
   "outputs": [
    {
     "name": "stdout",
     "output_type": "stream",
     "text": [
      "Hola Mundo-De Nuevo\n"
     ]
    }
   ],
   "source": [
    "# Parametros sep\n",
    "print(\"Hola Mundo\",\"De Nuevo\",sep=\"-\")"
   ]
  },
  {
   "cell_type": "code",
   "execution_count": 10,
   "id": "f13f78d1",
   "metadata": {},
   "outputs": [
    {
     "name": "stdout",
     "output_type": "stream",
     "text": [
      "Hola Mundo De Nuevo!!"
     ]
    }
   ],
   "source": [
    "# Parametros sep\n",
    "print(\"Hola Mundo\",\"De Nuevo\",end=\"!!\")"
   ]
  },
  {
   "cell_type": "code",
   "execution_count": 12,
   "id": "f9f3823a",
   "metadata": {},
   "outputs": [],
   "source": [
    "# Parametro file\n",
    "prueba = open('prueba.txt', 'w')\n",
    "  \n",
    "print('Hola Mundo', file = prueba)\n",
    "prueba.close()"
   ]
  },
  {
   "cell_type": "code",
   "execution_count": 13,
   "id": "108dc4aa",
   "metadata": {},
   "outputs": [
    {
     "name": "stdout",
     "output_type": "stream",
     "text": [
      "Cargando ....."
     ]
    }
   ],
   "source": [
    "# Parametro flush\n",
    "import time\n",
    "print('Cargando ', end='',flush=True)\n",
    "for i in range(0,5):\n",
    "    time.sleep(1)\n",
    "    print('.',end='',flush=True)"
   ]
  },
  {
   "cell_type": "markdown",
   "id": "f08f007d",
   "metadata": {},
   "source": [
    "### Lecturade datos por teclado"
   ]
  },
  {
   "cell_type": "code",
   "execution_count": 14,
   "id": "37529bd4",
   "metadata": {},
   "outputs": [
    {
     "name": "stdout",
     "output_type": "stream",
     "text": [
      "Ingrese un número: 3\n"
     ]
    },
    {
     "data": {
      "text/plain": [
       "'3'"
      ]
     },
     "execution_count": 14,
     "metadata": {},
     "output_type": "execute_result"
    }
   ],
   "source": [
    "input(\"Ingrese un número: \")"
   ]
  },
  {
   "cell_type": "markdown",
   "id": "ebaca14f",
   "metadata": {},
   "source": [
    "### Variables y Tipos de Datos"
   ]
  },
  {
   "cell_type": "code",
   "execution_count": 15,
   "id": "122b737e",
   "metadata": {},
   "outputs": [
    {
     "data": {
      "text/plain": [
       "int"
      ]
     },
     "execution_count": 15,
     "metadata": {},
     "output_type": "execute_result"
    }
   ],
   "source": [
    "edad = 30\n",
    "type(edad)"
   ]
  },
  {
   "cell_type": "code",
   "execution_count": 16,
   "id": "774db0a8",
   "metadata": {},
   "outputs": [
    {
     "data": {
      "text/plain": [
       "float"
      ]
     },
     "execution_count": 16,
     "metadata": {},
     "output_type": "execute_result"
    }
   ],
   "source": [
    "talla = 1.80\n",
    "type(talla)"
   ]
  },
  {
   "cell_type": "code",
   "execution_count": 47,
   "id": "bf18b7d7",
   "metadata": {},
   "outputs": [
    {
     "data": {
      "text/plain": [
       "complex"
      ]
     },
     "execution_count": 47,
     "metadata": {},
     "output_type": "execute_result"
    }
   ],
   "source": [
    "x=1j\n",
    "type(x)"
   ]
  },
  {
   "cell_type": "code",
   "execution_count": 17,
   "id": "8476b102",
   "metadata": {},
   "outputs": [
    {
     "data": {
      "text/plain": [
       "str"
      ]
     },
     "execution_count": 17,
     "metadata": {},
     "output_type": "execute_result"
    }
   ],
   "source": [
    "nombre= 'Alexis A. Quezada C.'\n",
    "type(nombre)"
   ]
  },
  {
   "cell_type": "code",
   "execution_count": 43,
   "id": "72e890d3",
   "metadata": {},
   "outputs": [
    {
     "data": {
      "text/plain": [
       "bool"
      ]
     },
     "execution_count": 43,
     "metadata": {},
     "output_type": "execute_result"
    }
   ],
   "source": [
    "condicion= True\n",
    "type(condicion)"
   ]
  },
  {
   "cell_type": "code",
   "execution_count": 48,
   "id": "2d943771",
   "metadata": {},
   "outputs": [
    {
     "data": {
      "text/plain": [
       "list"
      ]
     },
     "execution_count": 48,
     "metadata": {},
     "output_type": "execute_result"
    }
   ],
   "source": [
    "lista = [\"perro\",\"gato\"]\n",
    "type(lista)"
   ]
  },
  {
   "cell_type": "code",
   "execution_count": 50,
   "id": "0b2a1f62",
   "metadata": {},
   "outputs": [
    {
     "data": {
      "text/plain": [
       "tuple"
      ]
     },
     "execution_count": 50,
     "metadata": {},
     "output_type": "execute_result"
    }
   ],
   "source": [
    "tupla = (\"perro\",\"gato\")\n",
    "type(tupla)"
   ]
  },
  {
   "cell_type": "code",
   "execution_count": 51,
   "id": "8efdbe70",
   "metadata": {},
   "outputs": [
    {
     "data": {
      "text/plain": [
       "range"
      ]
     },
     "execution_count": 51,
     "metadata": {},
     "output_type": "execute_result"
    }
   ],
   "source": [
    "x= range(10)\n",
    "type(x)"
   ]
  },
  {
   "cell_type": "code",
   "execution_count": 52,
   "id": "8441e29f",
   "metadata": {},
   "outputs": [
    {
     "data": {
      "text/plain": [
       "set"
      ]
     },
     "execution_count": 52,
     "metadata": {},
     "output_type": "execute_result"
    }
   ],
   "source": [
    "x= {\"perro\",\"gato\"}\n",
    "type(x)"
   ]
  },
  {
   "cell_type": "code",
   "execution_count": 54,
   "id": "79f90575",
   "metadata": {},
   "outputs": [
    {
     "data": {
      "text/plain": [
       "dict"
      ]
     },
     "execution_count": 54,
     "metadata": {},
     "output_type": "execute_result"
    }
   ],
   "source": [
    "x = dict(nombre=\"Alexis\", edad=30)\n",
    "type(x)"
   ]
  },
  {
   "cell_type": "code",
   "execution_count": 58,
   "id": "71ee74dc",
   "metadata": {},
   "outputs": [
    {
     "data": {
      "text/plain": [
       "set"
      ]
     },
     "execution_count": 58,
     "metadata": {},
     "output_type": "execute_result"
    }
   ],
   "source": [
    "x = set((\"perro\",\"gato\"))\n",
    "type(x)"
   ]
  },
  {
   "cell_type": "markdown",
   "id": "c60c6080",
   "metadata": {},
   "source": [
    "### Casting"
   ]
  },
  {
   "cell_type": "code",
   "execution_count": 40,
   "id": "5e88e59d",
   "metadata": {},
   "outputs": [
    {
     "data": {
      "text/plain": [
       "30.0"
      ]
     },
     "execution_count": 40,
     "metadata": {},
     "output_type": "execute_result"
    }
   ],
   "source": [
    "x = 30\n",
    "x = float(x)\n",
    "x"
   ]
  },
  {
   "cell_type": "code",
   "execution_count": 41,
   "id": "8b18623e",
   "metadata": {},
   "outputs": [
    {
     "data": {
      "text/plain": [
       "30.0"
      ]
     },
     "execution_count": 41,
     "metadata": {},
     "output_type": "execute_result"
    }
   ],
   "source": [
    "x = \"30\"\n",
    "x = float(x)\n",
    "x"
   ]
  },
  {
   "cell_type": "code",
   "execution_count": 42,
   "id": "8fae1045",
   "metadata": {},
   "outputs": [
    {
     "data": {
      "text/plain": [
       "'1'"
      ]
     },
     "execution_count": 42,
     "metadata": {},
     "output_type": "execute_result"
    }
   ],
   "source": [
    "x=str(1)\n",
    "x"
   ]
  },
  {
   "cell_type": "markdown",
   "id": "54835576",
   "metadata": {},
   "source": [
    "### Strings"
   ]
  },
  {
   "cell_type": "code",
   "execution_count": 60,
   "id": "3cf6f2a9",
   "metadata": {},
   "outputs": [
    {
     "name": "stdout",
     "output_type": "stream",
     "text": [
      "Lorem ipsum dolor sit amet,\n",
      "consectetur adipiscing elit,\n",
      "sed do eiusmod tempor incididunt\n",
      "ut labore et dolore magna aliqua.\n"
     ]
    }
   ],
   "source": [
    "#String multilinea\n",
    "a = \"\"\"Lorem ipsum dolor sit amet,\n",
    "consectetur adipiscing elit,\n",
    "sed do eiusmod tempor incididunt\n",
    "ut labore et dolore magna aliqua.\"\"\"\n",
    "print(a)"
   ]
  },
  {
   "cell_type": "code",
   "execution_count": 66,
   "id": "ec025a5a",
   "metadata": {},
   "outputs": [
    {
     "name": "stdout",
     "output_type": "stream",
     "text": [
      "H\n",
      "o\n",
      "l\n",
      "a\n"
     ]
    }
   ],
   "source": [
    "#Iterando a traves de string\n",
    "texto = \"Hola\"\n",
    "for letra in texto:\n",
    "    print(letra)"
   ]
  },
  {
   "cell_type": "code",
   "execution_count": 67,
   "id": "b1083e78",
   "metadata": {},
   "outputs": [
    {
     "data": {
      "text/plain": [
       "10"
      ]
     },
     "execution_count": 67,
     "metadata": {},
     "output_type": "execute_result"
    }
   ],
   "source": [
    "#Obteniendo Longitud de String\n",
    "a = \"Hola Mundo\"\n",
    "len(a)"
   ]
  },
  {
   "cell_type": "code",
   "execution_count": 69,
   "id": "dde819e3",
   "metadata": {},
   "outputs": [
    {
     "name": "stdout",
     "output_type": "stream",
     "text": [
      "True\n"
     ]
    }
   ],
   "source": [
    "#Verificando si frase o caracter se encuentra en string\n",
    "a = 'Hola Mundo'\n",
    "print(\"Hola\" in a)"
   ]
  },
  {
   "cell_type": "markdown",
   "id": "ff9b11e8",
   "metadata": {},
   "source": [
    "#### Cortando Strings"
   ]
  },
  {
   "cell_type": "code",
   "execution_count": 64,
   "id": "527b90d3",
   "metadata": {},
   "outputs": [
    {
     "name": "stdout",
     "output_type": "stream",
     "text": [
      "la \n"
     ]
    }
   ],
   "source": [
    "# Obteniendo Substring\n",
    "a = \"Hola Mundo\"\n",
    "print(a[2:5])"
   ]
  },
  {
   "cell_type": "code",
   "execution_count": 70,
   "id": "e8107969",
   "metadata": {},
   "outputs": [
    {
     "data": {
      "text/plain": [
       "'Ho'"
      ]
     },
     "execution_count": 70,
     "metadata": {},
     "output_type": "execute_result"
    }
   ],
   "source": [
    "#Cortando string del inicio hasta una posición x\n",
    "a = \"Hola Mundo\"\n",
    "a[:2]"
   ]
  },
  {
   "cell_type": "code",
   "execution_count": 71,
   "id": "721d7092",
   "metadata": {},
   "outputs": [
    {
     "data": {
      "text/plain": [
       "'la Mundo'"
      ]
     },
     "execution_count": 71,
     "metadata": {},
     "output_type": "execute_result"
    }
   ],
   "source": [
    "#Cortando string de una posición x al final\n",
    "a = \"Hola Mundo\"\n",
    "a[2:]"
   ]
  },
  {
   "cell_type": "code",
   "execution_count": 75,
   "id": "be20d9b4",
   "metadata": {},
   "outputs": [
    {
     "data": {
      "text/plain": [
       "'odnuM aloH'"
      ]
     },
     "execution_count": 75,
     "metadata": {},
     "output_type": "execute_result"
    }
   ],
   "source": [
    "#Invierte String\n",
    "a[::-1]"
   ]
  },
  {
   "cell_type": "markdown",
   "id": "678fbc4c",
   "metadata": {},
   "source": [
    "#### Modificando String"
   ]
  },
  {
   "cell_type": "code",
   "execution_count": 81,
   "id": "8ce0ddcf",
   "metadata": {},
   "outputs": [
    {
     "data": {
      "text/plain": [
       "'HOLA MUNDO'"
      ]
     },
     "execution_count": 81,
     "metadata": {},
     "output_type": "execute_result"
    }
   ],
   "source": [
    "#Convirtiendo a Mayusculas\n",
    "a.upper()"
   ]
  },
  {
   "cell_type": "code",
   "execution_count": 82,
   "id": "f95831fa",
   "metadata": {},
   "outputs": [
    {
     "data": {
      "text/plain": [
       "'hola mundo'"
      ]
     },
     "execution_count": 82,
     "metadata": {},
     "output_type": "execute_result"
    }
   ],
   "source": [
    "#Convirtiendo a Minisculas\n",
    "a.lower()"
   ]
  },
  {
   "cell_type": "code",
   "execution_count": 84,
   "id": "85987ef7",
   "metadata": {},
   "outputs": [
    {
     "data": {
      "text/plain": [
       "'Jola Mundo'"
      ]
     },
     "execution_count": 84,
     "metadata": {},
     "output_type": "execute_result"
    }
   ],
   "source": [
    "#Reemplaza caracter especifico por otro\n",
    "b=a\n",
    "b.replace(\"H\",\"J\")"
   ]
  },
  {
   "cell_type": "code",
   "execution_count": 85,
   "id": "5d50c0cb",
   "metadata": {},
   "outputs": [
    {
     "data": {
      "text/plain": [
       "['Hola', 'Mundo']"
      ]
     },
     "execution_count": 85,
     "metadata": {},
     "output_type": "execute_result"
    }
   ],
   "source": [
    "#Separa string en substrings si el separador se encuentra\n",
    "b=a\n",
    "b.split(\" \")"
   ]
  },
  {
   "cell_type": "markdown",
   "id": "20f2c680",
   "metadata": {},
   "source": [
    "#### Format Strings"
   ]
  },
  {
   "cell_type": "code",
   "execution_count": 86,
   "id": "0a53d496",
   "metadata": {},
   "outputs": [
    {
     "name": "stdout",
     "output_type": "stream",
     "text": [
      "Quiero sacar un 20\n"
     ]
    }
   ],
   "source": [
    "numero = 20\n",
    "txt = \"Quiero sacar un {}\"\n",
    "print(txt.format(numero))"
   ]
  },
  {
   "cell_type": "markdown",
   "id": "dfda896f",
   "metadata": {},
   "source": [
    "#### Caracteres Especiales\n",
    "\n",
    "<table>\n",
    "<tbody><tr>\n",
    "  <th width=\"25%\">Code</th>\n",
    "  <th>Result</th>\n",
    "</tr>\n",
    "<tr>\n",
    "  <td>\\'</td>\n",
    "  <td>Comilla Simple</td>\n",
    "</tr>\n",
    "<tr>\n",
    "  <td>\\\\</td>\n",
    "  <td>Backslash</td>\n",
    "</tr>\n",
    "<tr>\n",
    "  <td>\\n</td>\n",
    "  <td>Nueva Linea</td>\n",
    "</tr>\n",
    "</tbody></table>"
   ]
  },
  {
   "cell_type": "markdown",
   "id": "74375c5f",
   "metadata": {},
   "source": [
    "### Operaciones aritmeticas\n",
    "\n",
    "<table>\n",
    "<tbody><tr>\n",
    "<th style=\"width:25%\">Operador</th>\n",
    "<th style=\"width:35%\">Nombre</th>\n",
    "<th style=\"width:30%\">Ejemplo</th>\n",
    "</tr>\n",
    "<tr>\n",
    "<td>+</td>\n",
    "<td>Suma</td>\n",
    "<td>x + y</td>\n",
    "</tr>\n",
    "<tr>\n",
    "<td>-</td>\n",
    "<td>Resta</td>\n",
    "<td>x - y</td>\n",
    "</tr>\n",
    "<tr>\n",
    "<td>*</td>\n",
    "<td>Multiplicación</td>\n",
    "<td>x * y</td>\n",
    "</tr>\n",
    "<tr>\n",
    "<td>/</td>\n",
    "<td>División</td>\n",
    "<td>x / y</td>\n",
    "</tr>\n",
    "<tr>\n",
    "<td>%</td>\n",
    "<td>Módulo</td>\n",
    "<td>x % y</td>\n",
    "</tr>\n",
    "  <tr>\n",
    "<td>**</td>\n",
    "<td>Exponenciación</td>\n",
    "<td>x ** y</td>\n",
    "  </tr>\n",
    "<tr>\n",
    "<td>//</td>\n",
    "<td>División de piso</td>\n",
    "<td>x // y</td>\n",
    "</tr>\n",
    "</tbody></table>"
   ]
  },
  {
   "cell_type": "code",
   "execution_count": 23,
   "id": "50ffd410",
   "metadata": {},
   "outputs": [
    {
     "data": {
      "text/plain": [
       "1"
      ]
     },
     "execution_count": 23,
     "metadata": {},
     "output_type": "execute_result"
    }
   ],
   "source": [
    "# Modulo\n",
    "10%3"
   ]
  },
  {
   "cell_type": "code",
   "execution_count": 25,
   "id": "6519735b",
   "metadata": {},
   "outputs": [
    {
     "data": {
      "text/plain": [
       "8"
      ]
     },
     "execution_count": 25,
     "metadata": {},
     "output_type": "execute_result"
    }
   ],
   "source": [
    "# Exponenciación\n",
    "2**3"
   ]
  },
  {
   "cell_type": "code",
   "execution_count": 26,
   "id": "c2af79c8",
   "metadata": {},
   "outputs": [
    {
     "data": {
      "text/plain": [
       "3"
      ]
     },
     "execution_count": 26,
     "metadata": {},
     "output_type": "execute_result"
    }
   ],
   "source": [
    "# División de Piso\n",
    "10//3"
   ]
  },
  {
   "cell_type": "code",
   "execution_count": 27,
   "id": "e922d7db",
   "metadata": {},
   "outputs": [
    {
     "data": {
      "text/plain": [
       "3.3333333333333335"
      ]
     },
     "execution_count": 27,
     "metadata": {},
     "output_type": "execute_result"
    }
   ],
   "source": [
    "10/3"
   ]
  },
  {
   "cell_type": "code",
   "execution_count": 35,
   "id": "e10f933c",
   "metadata": {},
   "outputs": [
    {
     "data": {
      "text/plain": [
       "'Alexis Quezada'"
      ]
     },
     "execution_count": 35,
     "metadata": {},
     "output_type": "execute_result"
    }
   ],
   "source": [
    "nombre=\"Alexis\"\n",
    "apellido = \"Quezada\"\n",
    "nombre+\" \"+apellido"
   ]
  },
  {
   "cell_type": "code",
   "execution_count": 33,
   "id": "3f383b03",
   "metadata": {},
   "outputs": [
    {
     "data": {
      "text/plain": [
       "'Alexis Alexis '"
      ]
     },
     "execution_count": 33,
     "metadata": {},
     "output_type": "execute_result"
    }
   ],
   "source": [
    "nombre *2"
   ]
  },
  {
   "cell_type": "markdown",
   "id": "c49d3664",
   "metadata": {},
   "source": [
    "### Operadores Lógicos\n",
    "\n",
    "<table>\n",
    "<tbody><tr>\n",
    "<th style=\"width:25%\">Operador</th>\n",
    "<th style=\"width:35%\">Descripción</th>\n",
    "<th style=\"width:30%\">Ejemplo</th>\n",
    "</tr>\n",
    "<tr>\n",
    "<td>and&nbsp;</td>\n",
    "<td>Regresa True si ambos clausulas son verdaderas, caso contrario Regresa False</td>\n",
    "<td>x &lt; 5 and&nbsp; x &lt; 10</td>\n",
    "</tr>\n",
    "<tr>\n",
    "<td>or</td>\n",
    "<td>Regresa True si al menos uno es verdadero</td>\n",
    "<td>x &lt; 5 or x &lt; 4</td>\n",
    "</tr>\n",
    "<tr>\n",
    "<td>not</td>\n",
    "<td>Regresa el resultado opuesto, regresa False si es True</td>\n",
    "<td>not(x &lt; 5 and x &lt; 10)</td>\n",
    "</tr>\n",
    "</tbody></table>"
   ]
  },
  {
   "cell_type": "code",
   "execution_count": 29,
   "id": "27383cb7",
   "metadata": {},
   "outputs": [
    {
     "data": {
      "text/plain": [
       "True"
      ]
     },
     "execution_count": 29,
     "metadata": {},
     "output_type": "execute_result"
    }
   ],
   "source": [
    "2 < 5 and  9 < 10"
   ]
  },
  {
   "cell_type": "code",
   "execution_count": 30,
   "id": "24bf6935",
   "metadata": {},
   "outputs": [
    {
     "data": {
      "text/plain": [
       "True"
      ]
     },
     "execution_count": 30,
     "metadata": {},
     "output_type": "execute_result"
    }
   ],
   "source": [
    "1 < 5 or 5 < 4"
   ]
  },
  {
   "cell_type": "code",
   "execution_count": 31,
   "id": "4eaf38c6",
   "metadata": {},
   "outputs": [
    {
     "data": {
      "text/plain": [
       "False"
      ]
     },
     "execution_count": 31,
     "metadata": {},
     "output_type": "execute_result"
    }
   ],
   "source": [
    "not(2 < 5 and  9 < 10)"
   ]
  },
  {
   "cell_type": "markdown",
   "id": "ea5b893c",
   "metadata": {},
   "source": [
    "### Colecciones\n",
    "Existen 4 tipos de Colecciones:\n",
    "<ol>\n",
    "  <li>List: Es una coleccion que esta ordenado y es mutable. Permite valores duplicados</li>\n",
    "  <li>Tupla: Es una coleccion que esta ordenado y no es mutable. Permite valores duplicados</li>\n",
    "  <li>Set: Es una coleccion que no esta ordenado,es mutable, y no indexada. No permite valores duplicados</li>\n",
    "  <li>Dictionary: Es una coleccion que esta ordenado y es mutable. Permite valores duplicados</li>\n",
    "</ol>"
   ]
  },
  {
   "cell_type": "markdown",
   "id": "b0637d34",
   "metadata": {},
   "source": [
    "#### Listas"
   ]
  },
  {
   "cell_type": "code",
   "execution_count": 91,
   "id": "955322d2",
   "metadata": {},
   "outputs": [
    {
     "data": {
      "text/plain": [
       "4"
      ]
     },
     "execution_count": 91,
     "metadata": {},
     "output_type": "execute_result"
    }
   ],
   "source": [
    "#Obteniendo valores x en lista\n",
    "lista = [2,'tres',4]\n",
    "lista[2]"
   ]
  },
  {
   "cell_type": "code",
   "execution_count": 95,
   "id": "1bd39046",
   "metadata": {},
   "outputs": [
    {
     "data": {
      "text/plain": [
       "4"
      ]
     },
     "execution_count": 95,
     "metadata": {},
     "output_type": "execute_result"
    }
   ],
   "source": [
    "#Obteniendo valores en lista con indice negativo\n",
    "lista[-1]"
   ]
  },
  {
   "cell_type": "code",
   "execution_count": 98,
   "id": "dbf5b381",
   "metadata": {},
   "outputs": [
    {
     "data": {
      "text/plain": [
       "[2, 'tres']"
      ]
     },
     "execution_count": 98,
     "metadata": {},
     "output_type": "execute_result"
    }
   ],
   "source": [
    "#Obteniendo rango de valores\n",
    "lista[0:2]"
   ]
  },
  {
   "cell_type": "code",
   "execution_count": 101,
   "id": "bac26ffe",
   "metadata": {},
   "outputs": [
    {
     "data": {
      "text/plain": [
       "[2, 'tres']"
      ]
     },
     "execution_count": 101,
     "metadata": {},
     "output_type": "execute_result"
    }
   ],
   "source": [
    "#Obteniendo rango de valores desde el inicio\n",
    "lista[:2]"
   ]
  },
  {
   "cell_type": "code",
   "execution_count": 104,
   "id": "6baa7066",
   "metadata": {},
   "outputs": [
    {
     "data": {
      "text/plain": [
       "['tres', 4]"
      ]
     },
     "execution_count": 104,
     "metadata": {},
     "output_type": "execute_result"
    }
   ],
   "source": [
    "#Obteniendo rango de valores desde posicion indicada hasta final\n",
    "lista[1:]"
   ]
  },
  {
   "cell_type": "code",
   "execution_count": 105,
   "id": "16a9d1d3",
   "metadata": {},
   "outputs": [
    {
     "data": {
      "text/plain": [
       "[2, 'tres', 4, 'cinco']"
      ]
     },
     "execution_count": 105,
     "metadata": {},
     "output_type": "execute_result"
    }
   ],
   "source": [
    "#Agregando valores a lista\n",
    "lista.append(\"cinco\")\n",
    "lista"
   ]
  },
  {
   "cell_type": "code",
   "execution_count": 106,
   "id": "0a0722f4",
   "metadata": {},
   "outputs": [
    {
     "data": {
      "text/plain": [
       "[1, 2, 'tres', 4, 'cinco']"
      ]
     },
     "execution_count": 106,
     "metadata": {},
     "output_type": "execute_result"
    }
   ],
   "source": [
    "#Agregando valores a lista en posicion especifica\n",
    "lista.insert(0,1)\n",
    "lista"
   ]
  },
  {
   "cell_type": "code",
   "execution_count": 110,
   "id": "07ecd223",
   "metadata": {},
   "outputs": [],
   "source": [
    "lista1=[\"manzana\",\"platano\"]\n",
    "lista2=[\"mango\",\"papaya\"]"
   ]
  },
  {
   "cell_type": "code",
   "execution_count": 111,
   "id": "5c47f1d0",
   "metadata": {},
   "outputs": [
    {
     "data": {
      "text/plain": [
       "['manzana', 'platano', 'mango', 'papaya']"
      ]
     },
     "execution_count": 111,
     "metadata": {},
     "output_type": "execute_result"
    }
   ],
   "source": [
    "#Agregando elemento de una lista a otra lista\n",
    "lista1.extend(lista2)\n",
    "lista1"
   ]
  },
  {
   "cell_type": "code",
   "execution_count": 112,
   "id": "4bee5dfd",
   "metadata": {},
   "outputs": [
    {
     "data": {
      "text/plain": [
       "['manzana', 'platano', 'mango', 'papaya']"
      ]
     },
     "execution_count": 112,
     "metadata": {},
     "output_type": "execute_result"
    }
   ],
   "source": [
    "lista1=[\"manzana\",\"platano\"]\n",
    "lista2=[\"mango\",\"papaya\"]\n",
    "#Agregando elemento de una lista a otra lista\n",
    "lista3=lista1+lista2\n",
    "lista3"
   ]
  },
  {
   "cell_type": "code",
   "execution_count": 113,
   "id": "a9415ed7",
   "metadata": {},
   "outputs": [
    {
     "data": {
      "text/plain": [
       "['manzana', 'platano', 'papaya']"
      ]
     },
     "execution_count": 113,
     "metadata": {},
     "output_type": "execute_result"
    }
   ],
   "source": [
    "#Quita elemento especifico\n",
    "lista3.remove(\"mango\")\n",
    "lista3"
   ]
  },
  {
   "cell_type": "code",
   "execution_count": 115,
   "id": "6bc7349d",
   "metadata": {},
   "outputs": [
    {
     "data": {
      "text/plain": [
       "['manzana', 'platano']"
      ]
     },
     "execution_count": 115,
     "metadata": {},
     "output_type": "execute_result"
    }
   ],
   "source": [
    "#Quita elemento en posicion especifica\n",
    "lista3.pop(2)\n",
    "lista3"
   ]
  },
  {
   "cell_type": "code",
   "execution_count": 118,
   "id": "75253fd2",
   "metadata": {},
   "outputs": [
    {
     "data": {
      "text/plain": [
       "1"
      ]
     },
     "execution_count": 118,
     "metadata": {},
     "output_type": "execute_result"
    }
   ],
   "source": [
    "#Cuenta las ocurrencias de elementos en la lista \n",
    "lista3.count('manzana')"
   ]
  },
  {
   "cell_type": "markdown",
   "id": "57597b6a",
   "metadata": {},
   "source": [
    "#### Sets"
   ]
  },
  {
   "cell_type": "code",
   "execution_count": 124,
   "id": "99c5b4a2",
   "metadata": {},
   "outputs": [
    {
     "name": "stdout",
     "output_type": "stream",
     "text": [
      "{1, 'c', 2, 3, 'b', 'a'}\n"
     ]
    }
   ],
   "source": [
    "#Union de sets\n",
    "set1 = {\"a\", \"b\" , \"c\"}\n",
    "set2 = {1, 2, 3}\n",
    "\n",
    "set3 = set1.union(set2)\n",
    "print(set3)"
   ]
  },
  {
   "cell_type": "code",
   "execution_count": 127,
   "id": "17bea224",
   "metadata": {},
   "outputs": [
    {
     "data": {
      "text/plain": [
       "{1}"
      ]
     },
     "execution_count": 127,
     "metadata": {},
     "output_type": "execute_result"
    }
   ],
   "source": [
    "#Interseccion de sets\n",
    "set1 = {1,2,3}\n",
    "set2 = {1,4,5}\n",
    "set3 = set1.intersection(set2)\n",
    "set3"
   ]
  },
  {
   "cell_type": "code",
   "execution_count": 128,
   "id": "27eb9eef",
   "metadata": {},
   "outputs": [
    {
     "data": {
      "text/plain": [
       "{2, 3, 4, 5}"
      ]
     },
     "execution_count": 128,
     "metadata": {},
     "output_type": "execute_result"
    }
   ],
   "source": [
    "#diferencia simetrica de sets\n",
    "set1 = {1,2,3}\n",
    "set2 = {1,4,5}\n",
    "set3 = set1.symmetric_difference(set2)\n",
    "set3"
   ]
  },
  {
   "cell_type": "markdown",
   "id": "cd720b93",
   "metadata": {},
   "source": [
    "#### Diccionarios"
   ]
  },
  {
   "cell_type": "code",
   "execution_count": 129,
   "id": "9967b11e",
   "metadata": {},
   "outputs": [
    {
     "name": "stdout",
     "output_type": "stream",
     "text": [
      "{'marca': 'Chevrolet', 'modelo': 'Cobalt', 'anio': 2010}\n"
     ]
    }
   ],
   "source": [
    "diccionario = {\n",
    "  \"marca\": \"Chevrolet\",\n",
    "  \"modelo\": \"Cobalt\",\n",
    "  \"anio\": 2010\n",
    "}\n",
    "print(diccionario)"
   ]
  },
  {
   "cell_type": "code",
   "execution_count": 130,
   "id": "45b4fac4",
   "metadata": {},
   "outputs": [
    {
     "data": {
      "text/plain": [
       "{'nombre': 'Alexis Quezada', 'edad': 30, 'pais': 'Peru'}"
      ]
     },
     "execution_count": 130,
     "metadata": {},
     "output_type": "execute_result"
    }
   ],
   "source": [
    "diccionario2 = dict(nombre = \"Alexis Quezada\", edad = 30, pais = \"Peru\")\n",
    "diccionario2"
   ]
  },
  {
   "cell_type": "code",
   "execution_count": 132,
   "id": "282ce7dd",
   "metadata": {},
   "outputs": [
    {
     "data": {
      "text/plain": [
       "'Cobalt'"
      ]
     },
     "execution_count": 132,
     "metadata": {},
     "output_type": "execute_result"
    }
   ],
   "source": [
    "#Obteniendo valor asociado a llave del diccionario\n",
    "diccionario[\"modelo\"]"
   ]
  },
  {
   "cell_type": "code",
   "execution_count": 133,
   "id": "88eb84da",
   "metadata": {},
   "outputs": [
    {
     "data": {
      "text/plain": [
       "'Cobalt'"
      ]
     },
     "execution_count": 133,
     "metadata": {},
     "output_type": "execute_result"
    }
   ],
   "source": [
    "diccionario.get(\"modelo\")"
   ]
  },
  {
   "cell_type": "code",
   "execution_count": 134,
   "id": "a0ecfb55",
   "metadata": {},
   "outputs": [
    {
     "data": {
      "text/plain": [
       "dict_keys(['nombre', 'edad', 'pais'])"
      ]
     },
     "execution_count": 134,
     "metadata": {},
     "output_type": "execute_result"
    }
   ],
   "source": [
    "#Obtener las llaves del diccionario\n",
    "diccionario2.keys()"
   ]
  },
  {
   "cell_type": "code",
   "execution_count": 135,
   "id": "5c334c35",
   "metadata": {},
   "outputs": [
    {
     "data": {
      "text/plain": [
       "dict_values(['Alexis Quezada', 30, 'Peru'])"
      ]
     },
     "execution_count": 135,
     "metadata": {},
     "output_type": "execute_result"
    }
   ],
   "source": [
    "#Obtener los valores del diccionario\n",
    "diccionario2.values()"
   ]
  },
  {
   "cell_type": "code",
   "execution_count": 138,
   "id": "7e3308ab",
   "metadata": {},
   "outputs": [
    {
     "name": "stdout",
     "output_type": "stream",
     "text": [
      "{'elemento1': {'marca': 'Chevrolet', 'modelo': 'Cobalt', 'anio': 2010}, 'elemento2': {'marca': 'Ford', 'modelo': 'Mustang', 'anio': 1998}}\n"
     ]
    }
   ],
   "source": [
    "#Diccionario anidado\n",
    "diccionario3 = {\n",
    "     \"elemento1\": {\n",
    "      \"marca\": \"Chevrolet\",\n",
    "      \"modelo\": \"Cobalt\",\n",
    "      \"anio\": 2010\n",
    "    },\n",
    "    \"elemento2\": {\n",
    "      \"marca\": \"Ford\",\n",
    "      \"modelo\": \"Mustang\",\n",
    "      \"anio\": 1998\n",
    "    }\n",
    "}\n",
    "print(diccionario3)"
   ]
  },
  {
   "cell_type": "code",
   "execution_count": 140,
   "id": "c17d9481",
   "metadata": {},
   "outputs": [
    {
     "data": {
      "text/plain": [
       "'Chevrolet'"
      ]
     },
     "execution_count": 140,
     "metadata": {},
     "output_type": "execute_result"
    }
   ],
   "source": [
    "diccionario3[\"elemento1\"][\"marca\"]"
   ]
  },
  {
   "cell_type": "code",
   "execution_count": 141,
   "id": "0bcc43fe",
   "metadata": {},
   "outputs": [
    {
     "data": {
      "text/plain": [
       "2"
      ]
     },
     "execution_count": 141,
     "metadata": {},
     "output_type": "execute_result"
    }
   ],
   "source": [
    "len(diccionario3)"
   ]
  },
  {
   "cell_type": "markdown",
   "id": "c72a427c",
   "metadata": {},
   "source": [
    "### Condicionales"
   ]
  },
  {
   "cell_type": "code",
   "execution_count": 142,
   "id": "133d12c4",
   "metadata": {},
   "outputs": [
    {
     "name": "stdout",
     "output_type": "stream",
     "text": [
      "a es mayor que b\n"
     ]
    }
   ],
   "source": [
    "a = 200\n",
    "b = 33\n",
    "if b > a:\n",
    "  print(\"b mayor que a\")\n",
    "elif a == b:\n",
    "  print(\"a y b son iguales\")\n",
    "else:\n",
    "  print(\"a es mayor que b\")"
   ]
  },
  {
   "cell_type": "markdown",
   "id": "af709b69",
   "metadata": {},
   "source": [
    "### Loops"
   ]
  },
  {
   "cell_type": "markdown",
   "id": "568a1784",
   "metadata": {},
   "source": [
    "#### While Loops"
   ]
  },
  {
   "cell_type": "code",
   "execution_count": 147,
   "id": "9938f3db",
   "metadata": {},
   "outputs": [
    {
     "name": "stdout",
     "output_type": "stream",
     "text": [
      "0\n",
      "1\n",
      "2\n",
      "3\n"
     ]
    }
   ],
   "source": [
    "i=0\n",
    "while i<4:\n",
    "    print(i)\n",
    "    i+=1"
   ]
  },
  {
   "cell_type": "code",
   "execution_count": 148,
   "id": "4c44659c",
   "metadata": {},
   "outputs": [
    {
     "name": "stdout",
     "output_type": "stream",
     "text": [
      "0\n",
      "1\n",
      "2\n"
     ]
    }
   ],
   "source": [
    "#la clausula break nos permite salir del loop incluso si la condicion del while sigue siendo verdadera\n",
    "i=0\n",
    "while i<4:\n",
    "    print(i)\n",
    "    if i==2:\n",
    "        break\n",
    "    i+=1"
   ]
  },
  {
   "cell_type": "markdown",
   "id": "254c0f76",
   "metadata": {},
   "source": [
    "#### For Loops"
   ]
  },
  {
   "cell_type": "code",
   "execution_count": 151,
   "id": "1a56bad0",
   "metadata": {},
   "outputs": [
    {
     "name": "stdout",
     "output_type": "stream",
     "text": [
      "0\n",
      "1\n",
      "2\n",
      "3\n"
     ]
    }
   ],
   "source": [
    "for i in range(4):\n",
    "    print(i)"
   ]
  },
  {
   "cell_type": "code",
   "execution_count": 153,
   "id": "e2668c63",
   "metadata": {},
   "outputs": [
    {
     "name": "stdout",
     "output_type": "stream",
     "text": [
      "0\n",
      "2\n",
      "3\n"
     ]
    }
   ],
   "source": [
    "#la clausula continue nos permite parar la iteracion actual y continuar con la siguiente\n",
    "for i in range(4):\n",
    "    if i==1:\n",
    "        continue\n",
    "    print(i)"
   ]
  },
  {
   "cell_type": "code",
   "execution_count": 3,
   "id": "02def19e",
   "metadata": {},
   "outputs": [
    {
     "name": "stdout",
     "output_type": "stream",
     "text": [
      "[2, 6, 10]\n"
     ]
    }
   ],
   "source": [
    "# One liner para for loop\n",
    "x = [1, 2, 3, 4, 5]\n",
    "y = [2*a for a in x if a % 2 == 1]\n",
    "print(y)"
   ]
  },
  {
   "cell_type": "code",
   "execution_count": 6,
   "id": "76dd74ab",
   "metadata": {},
   "outputs": [
    {
     "name": "stdout",
     "output_type": "stream",
     "text": [
      "[2, 6, 10]\n"
     ]
    }
   ],
   "source": [
    "# La siguiente función ejecuto lo mismo que la anterior función\n",
    "y=[]\n",
    "for a in x:\n",
    "    if a%2 ==1:\n",
    "        y.append(2*a)\n",
    "print(y)"
   ]
  },
  {
   "cell_type": "markdown",
   "id": "dc942189",
   "metadata": {},
   "source": [
    "### Funciones"
   ]
  },
  {
   "cell_type": "code",
   "execution_count": 157,
   "id": "bedd94d4",
   "metadata": {},
   "outputs": [],
   "source": [
    "def funcion(nombre,apellido):\n",
    "    print(apellido,nombre,sep=\", \")"
   ]
  },
  {
   "cell_type": "code",
   "execution_count": 159,
   "id": "e0b0275f",
   "metadata": {},
   "outputs": [
    {
     "name": "stdout",
     "output_type": "stream",
     "text": [
      "Quezada, Alexis\n"
     ]
    }
   ],
   "source": [
    "funcion(\"Alexis\",\"Quezada\")"
   ]
  },
  {
   "cell_type": "markdown",
   "id": "b9e0739e",
   "metadata": {},
   "source": [
    "#### Argumentos Arbitrarios (*args)\n",
    "Si no se sabe cuatos argumentos van a ser pasados la funcion, se añade un * antes del nombre de parametro"
   ]
  },
  {
   "cell_type": "code",
   "execution_count": 169,
   "id": "679e1d25",
   "metadata": {},
   "outputs": [],
   "source": [
    "def cursos(*curso):\n",
    "    cur=''\n",
    "    for c in curso:\n",
    "        if cur!=\"\":\n",
    "            cur+=\",\"+c\n",
    "        else:\n",
    "            cur+=c\n",
    "    return print(\"Los cursos que llevan los alumnos son: \" + cur)"
   ]
  },
  {
   "cell_type": "code",
   "execution_count": 170,
   "id": "f242e844",
   "metadata": {},
   "outputs": [
    {
     "name": "stdout",
     "output_type": "stream",
     "text": [
      "Los cursos que llevan los alumnos son: Big Data,IA,Base de Datos\n"
     ]
    }
   ],
   "source": [
    "cursos(\"Big Data\", \"IA\", \"Base de Datos\")"
   ]
  },
  {
   "cell_type": "markdown",
   "id": "d8b97c7e",
   "metadata": {},
   "source": [
    "#### Argumentos Clave Arbitrarios (*kwargs)\n",
    "Si no se sabe cuatos argumentos van a ser pasados la funcion y se acepta argumetnos nombrados, se añade un ** antes del nombre de parametro"
   ]
  },
  {
   "cell_type": "code",
   "execution_count": 171,
   "id": "4850a2c6",
   "metadata": {},
   "outputs": [
    {
     "name": "stdout",
     "output_type": "stream",
     "text": [
      "PythonesGenial!\n"
     ]
    }
   ],
   "source": [
    "def concatenar(**kwargs):\n",
    "    resultado = \"\"\n",
    "    for arg in kwargs.values():\n",
    "        resultado += arg\n",
    "    return resultado\n",
    "\n",
    "print(concatenar(a=\"Python\", b=\"es\", c=\"Genial\", d=\"!\"))"
   ]
  },
  {
   "cell_type": "markdown",
   "id": "59a5476a",
   "metadata": {},
   "source": [
    "<h4 style=\"color:red\"> Importante</h4>\n",
    "si se usan los 3 tipos de argumentos este debe ser el orden <br>\n",
    "<i><b> func(fargs, *args, **kwargs)</b></i>"
   ]
  },
  {
   "cell_type": "code",
   "execution_count": 73,
   "id": "23a4a5cc",
   "metadata": {},
   "outputs": [
    {
     "name": "stdout",
     "output_type": "stream",
     "text": [
      "Argumento 1  probando\n",
      "*args  (1, 2, 3)\n",
      "**kwargs {'clave1': '123', 'clave2': '345'}\n"
     ]
    }
   ],
   "source": [
    "def funcionArgumentos(arg1,*args,**kwargs):\n",
    "    print(\"Argumento 1 \",arg1)\n",
    "    print(\"*args \",args)\n",
    "    print(\"**kwargs\",kwargs)\n",
    "    \n",
    "funcionArgumentos(\"probando\",1,2,3,clave1='123',clave2='345')"
   ]
  },
  {
   "cell_type": "markdown",
   "id": "4759bc6d",
   "metadata": {},
   "source": [
    "#### Funciones Lambda / Funcion Anonima"
   ]
  },
  {
   "cell_type": "code",
   "execution_count": 173,
   "id": "59c952ec",
   "metadata": {},
   "outputs": [
    {
     "name": "stdout",
     "output_type": "stream",
     "text": [
      "15\n"
     ]
    }
   ],
   "source": [
    "x = lambda a : a + 10\n",
    "print(x(5))"
   ]
  },
  {
   "cell_type": "code",
   "execution_count": 174,
   "id": "2d60a63c",
   "metadata": {},
   "outputs": [
    {
     "name": "stdout",
     "output_type": "stream",
     "text": [
      "30\n"
     ]
    }
   ],
   "source": [
    "x = lambda a, b : a * b\n",
    "print(x(5, 6))"
   ]
  },
  {
   "cell_type": "code",
   "execution_count": 176,
   "id": "4552fbac",
   "metadata": {},
   "outputs": [
    {
     "name": "stdout",
     "output_type": "stream",
     "text": [
      "22\n"
     ]
    }
   ],
   "source": [
    "def myfunc(n):\n",
    "  return lambda a : a * n\n",
    "\n",
    "mydoubler = myfunc(2)\n",
    "\n",
    "print(mydoubler(11))"
   ]
  },
  {
   "cell_type": "code",
   "execution_count": 2,
   "id": "6c53d657",
   "metadata": {},
   "outputs": [
    {
     "name": "stdout",
     "output_type": "stream",
     "text": [
      "Regresa todo los numero en la serie mayores a 29 : [45, 57, 39, 95, 85]\n"
     ]
    }
   ],
   "source": [
    "serie = [23,45,57,39,1,3,95,3,8,85]\n",
    "resultado = filter (lambda m: m > 29, serie)\n",
    "print('Regresa todo los numero en la serie mayores a 29 :',list(resultado))"
   ]
  },
  {
   "cell_type": "markdown",
   "id": "2b9726c9",
   "metadata": {},
   "source": [
    "## Clases y Objetos\n",
    "<hr>\n",
    "Python es un Programa Orientado a Objetos (POO) <br>\n",
    "Casi todo en python es un objeto, con propiedades y metodos.<br>\n",
    "Una clase es como un constructor de objetos o plano para crear objetos.<br>\n"
   ]
  },
  {
   "cell_type": "code",
   "execution_count": 1,
   "id": "a55fdaa4",
   "metadata": {},
   "outputs": [
    {
     "name": "stdout",
     "output_type": "stream",
     "text": [
      "Alexis\n"
     ]
    }
   ],
   "source": [
    "class Persona:\n",
    "    def __init__(self,nombre,edad):\n",
    "        self.nombre = nombre\n",
    "        self.edad = edad\n",
    "        \n",
    "p1 = Persona(\"Alexis\",30)\n",
    "print(p1.nombre)"
   ]
  },
  {
   "cell_type": "markdown",
   "id": "40ae696e",
   "metadata": {},
   "source": [
    "Como se puede observar del ejemplo anterior, se utilizo una función __init__, la cual es una función incorporada la cual funciona como constructor cada vez que un objeto es creado desde una clase. <br>\n",
    "<br>\n",
    "Otra funcion incoporada es el __str__, la cual controla como una clase objeto es representada como un string."
   ]
  },
  {
   "cell_type": "code",
   "execution_count": 8,
   "id": "470ab302",
   "metadata": {},
   "outputs": [
    {
     "name": "stdout",
     "output_type": "stream",
     "text": [
      "<__main__.Persona object at 0x000001C4EFA78DF0>\n"
     ]
    }
   ],
   "source": [
    "#Ejemplo de como regresa la clase si no se especifica la funcion __str__\n",
    "print(p1)"
   ]
  },
  {
   "cell_type": "code",
   "execution_count": 10,
   "id": "7c7ae070",
   "metadata": {},
   "outputs": [
    {
     "name": "stdout",
     "output_type": "stream",
     "text": [
      "Alexis tiene 30\n"
     ]
    }
   ],
   "source": [
    "#Ejemplo de como regresa la clase si se especifica la funcion __str__\n",
    "class Persona:\n",
    "    def __init__(self,nombre,edad):\n",
    "        self.nombre = nombre\n",
    "        self.edad = edad\n",
    "        \n",
    "    def __str__(self):\n",
    "        return f\"{self.nombre} tiene {self.edad}\"\n",
    "p1 = Persona(\"Alexis\",30)\n",
    "print(p1)"
   ]
  },
  {
   "cell_type": "markdown",
   "id": "4558b1ac",
   "metadata": {},
   "source": [
    "#### Metodos de Objetos\n",
    "Los objetos pueden tener metodos. Los metodos en los objetos son funciones que pertenecen al objeto."
   ]
  },
  {
   "cell_type": "code",
   "execution_count": 7,
   "id": "378f85ff",
   "metadata": {},
   "outputs": [
    {
     "name": "stdout",
     "output_type": "stream",
     "text": [
      "De aca a  5 años, Alexis tendra 35\n"
     ]
    }
   ],
   "source": [
    "#Creamos el metodo edadFuturo, que espere un valor adicional\n",
    "class Persona:\n",
    "    def __init__(self,nombre,edad):\n",
    "        self.nombre = nombre\n",
    "        self.edad = edad\n",
    "        \n",
    "    def __str__(self):\n",
    "        return f\"{self.nombre} {self.edad}\"\n",
    "    \n",
    "    def edadFutura(self,anio):\n",
    "        print(\"De aca a  \" + str(anio) + \" años, \" + self.nombre + \" tendra \" + str(self.edad+anio))\n",
    "        \n",
    "p1 = Persona(\"Alexis\",30)\n",
    "p1.edadFutura(5)"
   ]
  },
  {
   "cell_type": "markdown",
   "id": "4cab67eb",
   "metadata": {},
   "source": [
    "#### Herencia\n",
    "En la herencia existen los dos tipos de clase padre e hijo"
   ]
  },
  {
   "cell_type": "code",
   "execution_count": 3,
   "id": "f2ee3f71",
   "metadata": {},
   "outputs": [],
   "source": [
    "#Crearemos una clase hijo en base a la clase persona\n",
    "class Estudiante(Persona):\n",
    "    pass"
   ]
  },
  {
   "cell_type": "code",
   "execution_count": 11,
   "id": "ee5c851e",
   "metadata": {},
   "outputs": [
    {
     "name": "stdout",
     "output_type": "stream",
     "text": [
      "Alex 20\n"
     ]
    }
   ],
   "source": [
    "x=Estudiante(\"Alex\",20)\n",
    "print(x)"
   ]
  },
  {
   "cell_type": "code",
   "execution_count": 12,
   "id": "527bf624",
   "metadata": {},
   "outputs": [
    {
     "name": "stdout",
     "output_type": "stream",
     "text": [
      "De aca a  10 años, Alex tendra 30\n"
     ]
    }
   ],
   "source": [
    "x.edadFutura(10)"
   ]
  },
  {
   "cell_type": "markdown",
   "id": "b062902f",
   "metadata": {},
   "source": [
    "También podemos especificar que herede todas las propiedades de la clase padre de la siguiente manera"
   ]
  },
  {
   "cell_type": "code",
   "execution_count": 21,
   "id": "fc0e7394",
   "metadata": {},
   "outputs": [
    {
     "name": "stdout",
     "output_type": "stream",
     "text": [
      "Alex 21\n"
     ]
    }
   ],
   "source": [
    "#Utilizamos el constructor __init__ para heredar los metodos de la clase padre\n",
    "class Estudiante(Persona):\n",
    "    def __init__(self,nombre,edad):\n",
    "        Persona.__init__(self,nombre,edad)\n",
    "        \n",
    "x=Estudiante(\"Alex\",21)\n",
    "print(x)"
   ]
  },
  {
   "cell_type": "code",
   "execution_count": 24,
   "id": "f9da973b",
   "metadata": {},
   "outputs": [
    {
     "name": "stdout",
     "output_type": "stream",
     "text": [
      "Alex 20\n"
     ]
    }
   ],
   "source": [
    "#Podemos utilizar de igual manera la funcion super() para que la clase hijo here del padre\n",
    "       \n",
    "class Estudiante(Persona):\n",
    "    def __init__(self,nombre,edad):\n",
    "        super().__init__(nombre,edad)\n",
    "        \n",
    "x=Estudiante(\"Alex\",20)\n",
    "print(x)"
   ]
  },
  {
   "cell_type": "markdown",
   "id": "288949d0",
   "metadata": {},
   "source": [
    "También podemos añadir metodos a la clase hijo"
   ]
  },
  {
   "cell_type": "code",
   "execution_count": 26,
   "id": "01f3cea4",
   "metadata": {},
   "outputs": [
    {
     "name": "stdout",
     "output_type": "stream",
     "text": [
      " Alumno Alex de la promocion 202301\n"
     ]
    }
   ],
   "source": [
    "class Estudiante(Persona):\n",
    "    def __init__(self,nombre,edad, egresa):\n",
    "        super().__init__(nombre,edad)\n",
    "        self.graduacion = egresa\n",
    "    def promocion(self):\n",
    "        print(\" Alumno {0} de la promocion {1}\".format(self.nombre,self.graduacion))\n",
    "x=Estudiante(\"Alex\",20,202301)\n",
    "x.promocion()"
   ]
  },
  {
   "cell_type": "markdown",
   "id": "1d1a15a5",
   "metadata": {},
   "source": [
    "#### Composición\n",
    "<img width='40%' height=\"auto\" src='https://realpython.com/cdn-cgi/image/width=960,format=auto/https://files.realpython.com/media/Inheritance-vs-Composition-in-Python_Watermarked_1.aec726368a97.jpg'>\n",
    "<hr>\n",
    "<p>Como vimos anteriormente, la <b> herencia </b> es cuando una clase se deriva de una clase base o padre. <br> Un ejemplo de esto fue la clase Persona, que tenia ciertos elementos que hemos podido heredar con la clase Estudiante, ya que es un subtipo, es decir un estudiante es una persona. </p>\n",
    "<br>\n",
    "<em style=\"color:blue\">\n",
    "   En una relación de herencia:\n",
    "    <ul>\n",
    "        <li>Clases que heredan de otra clase son llamadas clases derivadas, subclases, o subtipos </li>\n",
    "        <li>Clases de las cuales otras clases son derivadas, son llamadas clase base o super clase </li>\n",
    "    </ul>\n",
    "</em>\n",
    "<p> Ahora una <b>Composición </b> nos permite crear tipos complejos creando objetos de otros tipos. Esto quiere decir que una clase compuesta contiene un objeto otro componente de clase </p>\n"
   ]
  },
  {
   "cell_type": "code",
   "execution_count": 63,
   "id": "674b029b",
   "metadata": {},
   "outputs": [
    {
     "name": "stdout",
     "output_type": "stream",
     "text": [
      "500\n"
     ]
    }
   ],
   "source": [
    "class Salario:\n",
    "    def __init__(self,salario,comisiones):\n",
    "        self.salario=salario\n",
    "        self.comisiones = comisiones\n",
    "    def asignarSalarioBase(self):\n",
    "        print(self.salario) \n",
    "class Empleado:\n",
    "    def __init__(self,salario,comisiones):\n",
    "        self.salario_base=Salario(salario, comisiones).asignarSalarioBase()\n",
    "    def salarioIT(self):\n",
    "        return self.salario_base+500\n",
    "emp=Empleado(500,0)"
   ]
  },
  {
   "cell_type": "code",
   "execution_count": 99,
   "id": "3ce32d7b",
   "metadata": {},
   "outputs": [
    {
     "name": "stdout",
     "output_type": "stream",
     "text": [
      "Empleado 1 gana 1430\n",
      "Empleado 2 gana 1900\n"
     ]
    }
   ],
   "source": [
    "class Salario:\n",
    "    def __init__(self,**kwargs):\n",
    "        self.salario=kwargs[\"salario_base\"]\n",
    "        if 'comisiones' in kwargs:\n",
    "            self.comisiones=kwargs[\"comisiones\"]\n",
    "    def asignarSalarioBase(self):\n",
    "        return self.salario\n",
    "\n",
    "class Empleado:\n",
    "    def __init__(self,salario,comisiones):\n",
    "        self.salario_base=Salario(salario_base=salario,comisiones=comisiones).asignarSalarioBase()\n",
    "        self.comisiones= comisiones\n",
    "    def salarioSinComisiones(self):\n",
    "        return self.salario_base+500\n",
    "    def salarioConComision(self):\n",
    "        return self.salario_base+self.comisiones\n",
    "    \n",
    "emp=Empleado(930,0)\n",
    "print(\"Empleado 1 gana \" + str(emp.salarioSinComisiones()))\n",
    "emp1=Empleado(1200,700)\n",
    "print(\"Empleado 2 gana \" + str(emp1.salarioConComision()))\n"
   ]
  },
  {
   "cell_type": "markdown",
   "id": "a2e088cb",
   "metadata": {},
   "source": [
    "### Manejo de Errores\n",
    "Para el manejo de errores vamos a utilizar el Try Except"
   ]
  },
  {
   "cell_type": "code",
   "execution_count": 101,
   "id": "de0d6c01",
   "metadata": {},
   "outputs": [
    {
     "name": "stdout",
     "output_type": "stream",
     "text": [
      "Ocurrio un error\n"
     ]
    }
   ],
   "source": [
    "#Generamos el siguiente error para mostrar como pasa por la excepción, y el código pueda seguir ejecutando\n",
    "try:\n",
    "    print(z)\n",
    "except:\n",
    "    print(\"Ocurrio un error\")"
   ]
  },
  {
   "cell_type": "code",
   "execution_count": 103,
   "id": "b96e7af9",
   "metadata": {},
   "outputs": [
    {
     "name": "stdout",
     "output_type": "stream",
     "text": [
      "Ocurrio un error\n",
      "Luego del try except\n"
     ]
    }
   ],
   "source": [
    "try:\n",
    "    print(z)\n",
    "except:\n",
    "    print(\"Ocurrio un error\")\n",
    "finally:\n",
    "    print(\"Luego del try except\")"
   ]
  },
  {
   "cell_type": "code",
   "execution_count": 104,
   "id": "6f60b4ee",
   "metadata": {},
   "outputs": [
    {
     "name": "stdout",
     "output_type": "stream",
     "text": [
      "1\n",
      "Luego del try except\n"
     ]
    }
   ],
   "source": [
    "#Generamos el siguiente error para mostrar como pasa por la excepción, y el código pueda seguir ejecutando\n",
    "z=1\n",
    "try:\n",
    "    print(z)\n",
    "except:\n",
    "    print(\"Ocurrio un error\")\n",
    "finally:\n",
    "    print(\"Luego del try except\")"
   ]
  },
  {
   "cell_type": "code",
   "execution_count": 105,
   "id": "5d8880ab",
   "metadata": {},
   "outputs": [
    {
     "name": "stdout",
     "output_type": "stream",
     "text": [
      "1\n",
      "No ocurrio ningun error\n"
     ]
    }
   ],
   "source": [
    "z=1\n",
    "try:\n",
    "    print(z)\n",
    "except:\n",
    "    print(\"Ocurrio un error\")\n",
    "else:\n",
    "    print(\"No ocurrio ningun error\")"
   ]
  },
  {
   "cell_type": "markdown",
   "id": "cb584c90",
   "metadata": {},
   "source": [
    "#### Raise un excepción\n",
    "Podemos utilizar raise cuando queremos levantar una excepción dado una condición especfica"
   ]
  },
  {
   "cell_type": "code",
   "execution_count": 107,
   "id": "6b0da18a",
   "metadata": {},
   "outputs": [
    {
     "ename": "Exception",
     "evalue": "No se aceptan valores menor a 0",
     "output_type": "error",
     "traceback": [
      "\u001b[1;31m---------------------------------------------------------------------------\u001b[0m",
      "\u001b[1;31mException\u001b[0m                                 Traceback (most recent call last)",
      "\u001b[1;32m~\\AppData\\Local\\Temp/ipykernel_34104/3810704436.py\u001b[0m in \u001b[0;36m<module>\u001b[1;34m\u001b[0m\n\u001b[0;32m      1\u001b[0m \u001b[0mz\u001b[0m\u001b[1;33m=\u001b[0m\u001b[1;33m-\u001b[0m\u001b[1;36m1\u001b[0m\u001b[1;33m\u001b[0m\u001b[1;33m\u001b[0m\u001b[0m\n\u001b[0;32m      2\u001b[0m \u001b[1;32mif\u001b[0m \u001b[0mz\u001b[0m\u001b[1;33m<\u001b[0m\u001b[1;36m0\u001b[0m\u001b[1;33m:\u001b[0m\u001b[1;33m\u001b[0m\u001b[1;33m\u001b[0m\u001b[0m\n\u001b[1;32m----> 3\u001b[1;33m     \u001b[1;32mraise\u001b[0m \u001b[0mException\u001b[0m\u001b[1;33m(\u001b[0m\u001b[1;34m\"No se aceptan valores menor a 0\"\u001b[0m\u001b[1;33m)\u001b[0m\u001b[1;33m\u001b[0m\u001b[1;33m\u001b[0m\u001b[0m\n\u001b[0m",
      "\u001b[1;31mException\u001b[0m: No se aceptan valores menor a 0"
     ]
    }
   ],
   "source": [
    "z=-1\n",
    "if z<0:\n",
    "    raise Exception(\"No se aceptan valores menor a 0\")"
   ]
  },
  {
   "cell_type": "code",
   "execution_count": 108,
   "id": "72e95db5",
   "metadata": {},
   "outputs": [
    {
     "ename": "TypeError",
     "evalue": "No se aceptan ints",
     "output_type": "error",
     "traceback": [
      "\u001b[1;31m---------------------------------------------------------------------------\u001b[0m",
      "\u001b[1;31mTypeError\u001b[0m                                 Traceback (most recent call last)",
      "\u001b[1;32m~\\AppData\\Local\\Temp/ipykernel_34104/3666881124.py\u001b[0m in \u001b[0;36m<module>\u001b[1;34m\u001b[0m\n\u001b[0;32m      1\u001b[0m \u001b[0mz\u001b[0m\u001b[1;33m=\u001b[0m\u001b[1;33m-\u001b[0m\u001b[1;36m1\u001b[0m\u001b[1;33m\u001b[0m\u001b[1;33m\u001b[0m\u001b[0m\n\u001b[0;32m      2\u001b[0m \u001b[1;32mif\u001b[0m \u001b[1;32mnot\u001b[0m \u001b[0mtype\u001b[0m\u001b[1;33m(\u001b[0m\u001b[0mx\u001b[0m\u001b[1;33m)\u001b[0m \u001b[1;32mis\u001b[0m \u001b[0mstr\u001b[0m\u001b[1;33m:\u001b[0m\u001b[1;33m\u001b[0m\u001b[1;33m\u001b[0m\u001b[0m\n\u001b[1;32m----> 3\u001b[1;33m     \u001b[1;32mraise\u001b[0m \u001b[0mTypeError\u001b[0m\u001b[1;33m(\u001b[0m\u001b[1;34m\"No se aceptan ints\"\u001b[0m\u001b[1;33m)\u001b[0m\u001b[1;33m\u001b[0m\u001b[1;33m\u001b[0m\u001b[0m\n\u001b[0m",
      "\u001b[1;31mTypeError\u001b[0m: No se aceptan ints"
     ]
    }
   ],
   "source": [
    "z=-1\n",
    "if not type(x) is str:\n",
    "    raise TypeError(\"No se aceptan ints\")"
   ]
  },
  {
   "cell_type": "code",
   "execution_count": null,
   "id": "2d4b317a",
   "metadata": {},
   "outputs": [],
   "source": []
  },
  {
   "cell_type": "markdown",
   "id": "568b1f87",
   "metadata": {},
   "source": [
    "#### Assert\n",
    "Para el debug también podemos usar Assert"
   ]
  },
  {
   "cell_type": "code",
   "execution_count": 109,
   "id": "b15f38c5",
   "metadata": {},
   "outputs": [
    {
     "ename": "AssertionError",
     "evalue": "El numero debe ser par",
     "output_type": "error",
     "traceback": [
      "\u001b[1;31m---------------------------------------------------------------------------\u001b[0m",
      "\u001b[1;31mAssertionError\u001b[0m                            Traceback (most recent call last)",
      "\u001b[1;32m~\\AppData\\Local\\Temp/ipykernel_34104/1574953748.py\u001b[0m in \u001b[0;36m<module>\u001b[1;34m\u001b[0m\n\u001b[0;32m      1\u001b[0m \u001b[0mx\u001b[0m\u001b[1;33m=\u001b[0m\u001b[1;36m11\u001b[0m\u001b[1;33m\u001b[0m\u001b[1;33m\u001b[0m\u001b[0m\n\u001b[1;32m----> 2\u001b[1;33m \u001b[1;32massert\u001b[0m \u001b[0mx\u001b[0m\u001b[1;33m%\u001b[0m\u001b[1;36m2\u001b[0m\u001b[1;33m==\u001b[0m\u001b[1;36m0\u001b[0m\u001b[1;33m,\u001b[0m \u001b[1;34m\"El numero debe ser par\"\u001b[0m\u001b[1;33m\u001b[0m\u001b[1;33m\u001b[0m\u001b[0m\n\u001b[0m",
      "\u001b[1;31mAssertionError\u001b[0m: El numero debe ser par"
     ]
    }
   ],
   "source": [
    "x=11\n",
    "assert x%2==0, \"El numero debe ser par\""
   ]
  },
  {
   "cell_type": "markdown",
   "id": "920e7398",
   "metadata": {},
   "source": [
    "### Manejo de Archivos"
   ]
  },
  {
   "cell_type": "code",
   "execution_count": 114,
   "id": "047b31b0",
   "metadata": {},
   "outputs": [
    {
     "data": {
      "text/plain": [
       "'Hola Mundo\\n'"
      ]
     },
     "execution_count": 114,
     "metadata": {},
     "output_type": "execute_result"
    }
   ],
   "source": [
    "#Para abrir un archivo utilizamos la funcion open\n",
    "f = open(\"prueba.txt\")\n",
    "#Para poder leer su contenido utilizamos la funcion read(), tambien podemos especificar cuantos caracteres queremos leer\n",
    "f.read()"
   ]
  },
  {
   "cell_type": "code",
   "execution_count": 116,
   "id": "25a53ff4",
   "metadata": {},
   "outputs": [],
   "source": [
    "#Una vez que querramos cerrar el archivo usamos la funcion close()\n",
    "f.close()"
   ]
  },
  {
   "cell_type": "code",
   "execution_count": 122,
   "id": "4bff804f",
   "metadata": {},
   "outputs": [
    {
     "name": "stdout",
     "output_type": "stream",
     "text": [
      "Hola Mundo\n",
      "\n"
     ]
    }
   ],
   "source": [
    "#Tambien podemos utilizar readline si solo quisieramos leer una solo linea\n",
    "f = open(\"prueba.txt\")\n",
    "print(f.readline())\n",
    "f.close()"
   ]
  },
  {
   "cell_type": "code",
   "execution_count": 126,
   "id": "35cb791b",
   "metadata": {},
   "outputs": [
    {
     "name": "stdout",
     "output_type": "stream",
     "text": [
      "Hola Mundo\n",
      "Escribiendo nuevo contenidoEscribiendo nuevo contenidoEscribiendo nuevo contenido\n"
     ]
    }
   ],
   "source": [
    "#Si quisieramos escribir en el archivo que hemos abierto lo podemos hacer de la siguiente manera \n",
    "f = open(\"prueba.txt\", \"a\")\n",
    "f.write(\"Escribiendo nuevo contenido\")\n",
    "f.close()\n",
    "\n",
    "f = open(\"prueba.txt\", \"r\")\n",
    "print(f.read())\n",
    "f.close()\n"
   ]
  },
  {
   "cell_type": "code",
   "execution_count": 127,
   "id": "08dcb009",
   "metadata": {},
   "outputs": [
    {
     "name": "stdout",
     "output_type": "stream",
     "text": [
      "Escribiendo nuevo contenido\n"
     ]
    }
   ],
   "source": [
    "#Tambien podemos sobreescribir todo el archivo\n",
    "f = open(\"prueba.txt\", \"w\")\n",
    "f.write(\"Escribiendo nuevo contenido\")\n",
    "f.close()\n",
    "\n",
    "f = open(\"prueba.txt\", \"r\")\n",
    "print(f.read())\n",
    "f.close()"
   ]
  },
  {
   "cell_type": "code",
   "execution_count": 128,
   "id": "4f938132",
   "metadata": {},
   "outputs": [
    {
     "name": "stdout",
     "output_type": "stream",
     "text": [
      "Escribiendo nuevo contenido en prueba2.txt\n"
     ]
    }
   ],
   "source": [
    "#Tambien podemos crear un nuevo archivo\n",
    "f = open(\"prueba2.txt\",\"x\")\n",
    "f.close()\n",
    "f = open(\"prueba2.txt\", \"w\")\n",
    "f.write(\"Escribiendo nuevo contenido en prueba2.txt\")\n",
    "f.close()\n",
    "\n",
    "f = open(\"prueba2.txt\", \"r\")\n",
    "print(f.read())\n",
    "f.close()"
   ]
  },
  {
   "cell_type": "markdown",
   "id": "8fb4a030",
   "metadata": {},
   "source": [
    "### Manejo de Libreria OS"
   ]
  },
  {
   "cell_type": "code",
   "execution_count": 136,
   "id": "f59b8e0f",
   "metadata": {},
   "outputs": [
    {
     "name": "stdout",
     "output_type": "stream",
     "text": [
      "Directorio actual  D:\\Development\\Coding\\Python\\BigData\n",
      "Cambio de directorio a  D:\\Development\\Coding\\Python\n"
     ]
    }
   ],
   "source": [
    "#Para hacer uso de la libreria debemos importar el modulo\n",
    "import os\n",
    "\n",
    "#Obtener el directorio actual de trabajo\n",
    "cwd= os.getcwd()\n",
    "print(\"Directorio actual \", cwd)\n",
    "\n",
    "# Para cambiar el directorio\n",
    "os.chdir('../')\n",
    "cwd= os.getcwd()\n",
    "print(\"Cambio de directorio a \", cwd)"
   ]
  },
  {
   "cell_type": "code",
   "execution_count": 131,
   "id": "e5912b33",
   "metadata": {},
   "outputs": [
    {
     "name": "stdout",
     "output_type": "stream",
     "text": [
      "['.ipynb_checkpoints', 'DirectorioPrueba', 'prueba.txt', 'prueba2.txt', 'RepasoPython.ipynb', 'RepasoPython.pdf']\n"
     ]
    }
   ],
   "source": [
    "os.chdir(\"BigData\")\n",
    "\n",
    "#Para crear un nuevo folder\n",
    "os.mkdir(\"DirectorioPrueba\")\n",
    "\n",
    "#Para listar todos los archivos y directorios\n",
    "print(os.listdir(os.getcwd()))"
   ]
  },
  {
   "cell_type": "code",
   "execution_count": 132,
   "id": "9bffbc42",
   "metadata": {},
   "outputs": [
    {
     "name": "stdout",
     "output_type": "stream",
     "text": [
      "['.ipynb_checkpoints', 'DirectorioPrueba', 'prueba.txt', 'RepasoPython.ipynb', 'RepasoPython.pdf']\n"
     ]
    }
   ],
   "source": [
    "#Si queremos remover un archivo usamos\n",
    "os.remove('prueba2.txt')\n",
    "print(os.listdir(os.getcwd()))"
   ]
  },
  {
   "cell_type": "code",
   "execution_count": 133,
   "id": "af6c95e8",
   "metadata": {},
   "outputs": [
    {
     "name": "stdout",
     "output_type": "stream",
     "text": [
      "['.ipynb_checkpoints', 'prueba.txt', 'RepasoPython.ipynb', 'RepasoPython.pdf']\n"
     ]
    }
   ],
   "source": [
    "#Para eliminar un folder\n",
    "os.rmdir('DirectorioPrueba')\n",
    "print(os.listdir(os.getcwd()))"
   ]
  },
  {
   "cell_type": "code",
   "execution_count": 134,
   "id": "3a819afb",
   "metadata": {},
   "outputs": [
    {
     "data": {
      "text/plain": [
       "'nt'"
      ]
     },
     "execution_count": 134,
     "metadata": {},
     "output_type": "execute_result"
    }
   ],
   "source": [
    "os.name"
   ]
  },
  {
   "cell_type": "code",
   "execution_count": 135,
   "id": "da56c43d",
   "metadata": {},
   "outputs": [
    {
     "name": "stdout",
     "output_type": "stream",
     "text": [
      "[1 2 3 4 5]\n",
      "<class 'numpy.ndarray'>\n"
     ]
    }
   ],
   "source": [
    "import numpy as np\n",
    "\n",
    "arr = np.array([1, 2, 3, 4, 5])\n",
    "\n",
    "print(arr)\n",
    "\n",
    "print(type(arr))"
   ]
  },
  {
   "cell_type": "markdown",
   "id": "a45e33e1",
   "metadata": {},
   "source": [
    "### Uso de la Libreria Pandas"
   ]
  },
  {
   "cell_type": "code",
   "execution_count": 140,
   "id": "00f383e6",
   "metadata": {},
   "outputs": [
    {
     "data": {
      "text/html": [
       "<div>\n",
       "<style scoped>\n",
       "    .dataframe tbody tr th:only-of-type {\n",
       "        vertical-align: middle;\n",
       "    }\n",
       "\n",
       "    .dataframe tbody tr th {\n",
       "        vertical-align: top;\n",
       "    }\n",
       "\n",
       "    .dataframe thead th {\n",
       "        text-align: right;\n",
       "    }\n",
       "</style>\n",
       "<table border=\"1\" class=\"dataframe\">\n",
       "  <thead>\n",
       "    <tr style=\"text-align: right;\">\n",
       "      <th></th>\n",
       "      <th>car_name</th>\n",
       "      <th>fuel_type</th>\n",
       "    </tr>\n",
       "  </thead>\n",
       "  <tbody>\n",
       "    <tr>\n",
       "      <th>0</th>\n",
       "      <td>Hyundai i20</td>\n",
       "      <td>Petrol</td>\n",
       "    </tr>\n",
       "    <tr>\n",
       "      <th>1</th>\n",
       "      <td>Mahindra Scorpio Classic</td>\n",
       "      <td>Diesel</td>\n",
       "    </tr>\n",
       "    <tr>\n",
       "      <th>2</th>\n",
       "      <td>Citroen C3</td>\n",
       "      <td>Petrol</td>\n",
       "    </tr>\n",
       "  </tbody>\n",
       "</table>\n",
       "</div>"
      ],
      "text/plain": [
       "                   car_name fuel_type\n",
       "0               Hyundai i20    Petrol\n",
       "1  Mahindra Scorpio Classic    Diesel\n",
       "2                Citroen C3    Petrol"
      ]
     },
     "execution_count": 140,
     "metadata": {},
     "output_type": "execute_result"
    }
   ],
   "source": [
    "#Importamos la libreria pandas y le asignamos un alias\n",
    "import pandas as pd\n",
    "\n",
    "#Dataset Kaggle\n",
    "dataset = {\n",
    "  'car_name': [\"Hyundai i20\", \"Mahindra Scorpio Classic\", \"Citroen C3\"],\n",
    "  'fuel_type': [\"Petrol\", \"Diesel\", \"Petrol\"]\n",
    "}\n",
    "\n",
    "#Creacion de un dataframe\n",
    "x = pd.DataFrame(dataset)\n",
    "x"
   ]
  },
  {
   "cell_type": "code",
   "execution_count": 142,
   "id": "a0bb89a8",
   "metadata": {},
   "outputs": [
    {
     "name": "stdout",
     "output_type": "stream",
     "text": [
      "1.3.4\n"
     ]
    }
   ],
   "source": [
    "#Para ver la version de pandas\n",
    "print(pd.__version__)"
   ]
  },
  {
   "cell_type": "markdown",
   "id": "9a81d0d6",
   "metadata": {},
   "source": [
    "#### Series"
   ]
  },
  {
   "cell_type": "code",
   "execution_count": 148,
   "id": "fc03e792",
   "metadata": {},
   "outputs": [
    {
     "data": {
      "text/plain": [
       "0    1\n",
       "1    2\n",
       "2    3\n",
       "dtype: int64"
      ]
     },
     "execution_count": 148,
     "metadata": {},
     "output_type": "execute_result"
    }
   ],
   "source": [
    "#Generar una serie, la cual es como una columna en una tabla\n",
    "a = [1,2,3]\n",
    "x=pd.Series(a)\n",
    "x"
   ]
  },
  {
   "cell_type": "code",
   "execution_count": 150,
   "id": "bbfdf520",
   "metadata": {},
   "outputs": [
    {
     "data": {
      "text/plain": [
       "x    1\n",
       "y    2\n",
       "z    3\n",
       "dtype: int64"
      ]
     },
     "execution_count": 150,
     "metadata": {},
     "output_type": "execute_result"
    }
   ],
   "source": [
    "#Podemos crear etiquetas \n",
    "x=pd.Series(a,index=[\"x\",\"y\",\"z\"])\n",
    "x"
   ]
  },
  {
   "cell_type": "code",
   "execution_count": 152,
   "id": "36ea0e89",
   "metadata": {},
   "outputs": [
    {
     "data": {
      "text/plain": [
       "2"
      ]
     },
     "execution_count": 152,
     "metadata": {},
     "output_type": "execute_result"
    }
   ],
   "source": [
    "x[\"y\"]"
   ]
  },
  {
   "cell_type": "code",
   "execution_count": 153,
   "id": "9e091b04",
   "metadata": {},
   "outputs": [
    {
     "data": {
      "text/plain": [
       "2"
      ]
     },
     "execution_count": 153,
     "metadata": {},
     "output_type": "execute_result"
    }
   ],
   "source": [
    "x[1]"
   ]
  },
  {
   "cell_type": "code",
   "execution_count": 154,
   "id": "f9e5268e",
   "metadata": {},
   "outputs": [
    {
     "data": {
      "text/plain": [
       "dia1    30\n",
       "dia2    28\n",
       "dia3    32\n",
       "dtype: int64"
      ]
     },
     "execution_count": 154,
     "metadata": {},
     "output_type": "execute_result"
    }
   ],
   "source": [
    "# Tambien podemos crear una serie de un diccionario\n",
    "temperaturas = {\"dia1\":30,\"dia2\":28,\"dia3\":32}\n",
    "x=pd.Series(temperaturas)\n",
    "x"
   ]
  },
  {
   "cell_type": "code",
   "execution_count": 156,
   "id": "a9df3698",
   "metadata": {},
   "outputs": [
    {
     "data": {
      "text/plain": [
       "dia1    30\n",
       "dia2    28\n",
       "dtype: int64"
      ]
     },
     "execution_count": 156,
     "metadata": {},
     "output_type": "execute_result"
    }
   ],
   "source": [
    "# Tambien podemos crear una serie solo usando ciertos elementos del diccionario\n",
    "temperaturas = {\"dia1\":30,\"dia2\":28,\"dia3\":32}\n",
    "x=pd.Series(temperaturas, index=[\"dia1\",\"dia2\"])\n",
    "x"
   ]
  },
  {
   "cell_type": "markdown",
   "id": "8ac6f1d8",
   "metadata": {},
   "source": [
    "#### Dataframes"
   ]
  },
  {
   "cell_type": "code",
   "execution_count": 158,
   "id": "762ec994",
   "metadata": {},
   "outputs": [
    {
     "data": {
      "text/html": [
       "<div>\n",
       "<style scoped>\n",
       "    .dataframe tbody tr th:only-of-type {\n",
       "        vertical-align: middle;\n",
       "    }\n",
       "\n",
       "    .dataframe tbody tr th {\n",
       "        vertical-align: top;\n",
       "    }\n",
       "\n",
       "    .dataframe thead th {\n",
       "        text-align: right;\n",
       "    }\n",
       "</style>\n",
       "<table border=\"1\" class=\"dataframe\">\n",
       "  <thead>\n",
       "    <tr style=\"text-align: right;\">\n",
       "      <th></th>\n",
       "      <th>car_name</th>\n",
       "      <th>fuel_type</th>\n",
       "    </tr>\n",
       "  </thead>\n",
       "  <tbody>\n",
       "    <tr>\n",
       "      <th>0</th>\n",
       "      <td>Hyundai i20</td>\n",
       "      <td>Petrol</td>\n",
       "    </tr>\n",
       "    <tr>\n",
       "      <th>1</th>\n",
       "      <td>Mahindra Scorpio Classic</td>\n",
       "      <td>Diesel</td>\n",
       "    </tr>\n",
       "    <tr>\n",
       "      <th>2</th>\n",
       "      <td>Citroen C3</td>\n",
       "      <td>Petrol</td>\n",
       "    </tr>\n",
       "  </tbody>\n",
       "</table>\n",
       "</div>"
      ],
      "text/plain": [
       "                   car_name fuel_type\n",
       "0               Hyundai i20    Petrol\n",
       "1  Mahindra Scorpio Classic    Diesel\n",
       "2                Citroen C3    Petrol"
      ]
     },
     "execution_count": 158,
     "metadata": {},
     "output_type": "execute_result"
    }
   ],
   "source": [
    "dataset = {\n",
    "  'car_name': [\"Hyundai i20\", \"Mahindra Scorpio Classic\", \"Citroen C3\"],\n",
    "  'fuel_type': [\"Petrol\", \"Diesel\", \"Petrol\"]\n",
    "}\n",
    "\n",
    "#Creacion de un dataframe\n",
    "x = pd.DataFrame(dataset)\n",
    "x"
   ]
  },
  {
   "cell_type": "code",
   "execution_count": 160,
   "id": "a660bb5e",
   "metadata": {},
   "outputs": [
    {
     "data": {
      "text/plain": [
       "car_name     Hyundai i20\n",
       "fuel_type         Petrol\n",
       "Name: 0, dtype: object"
      ]
     },
     "execution_count": 160,
     "metadata": {},
     "output_type": "execute_result"
    }
   ],
   "source": [
    "#Podemos obtener una fila epecifica de la siguiente manera\n",
    "x.loc[0]"
   ]
  },
  {
   "cell_type": "code",
   "execution_count": 163,
   "id": "29ff29b5",
   "metadata": {},
   "outputs": [
    {
     "data": {
      "text/html": [
       "<div>\n",
       "<style scoped>\n",
       "    .dataframe tbody tr th:only-of-type {\n",
       "        vertical-align: middle;\n",
       "    }\n",
       "\n",
       "    .dataframe tbody tr th {\n",
       "        vertical-align: top;\n",
       "    }\n",
       "\n",
       "    .dataframe thead th {\n",
       "        text-align: right;\n",
       "    }\n",
       "</style>\n",
       "<table border=\"1\" class=\"dataframe\">\n",
       "  <thead>\n",
       "    <tr style=\"text-align: right;\">\n",
       "      <th></th>\n",
       "      <th>car_name</th>\n",
       "      <th>fuel_type</th>\n",
       "    </tr>\n",
       "  </thead>\n",
       "  <tbody>\n",
       "    <tr>\n",
       "      <th>0</th>\n",
       "      <td>Hyundai i20</td>\n",
       "      <td>Petrol</td>\n",
       "    </tr>\n",
       "    <tr>\n",
       "      <th>1</th>\n",
       "      <td>Mahindra Scorpio Classic</td>\n",
       "      <td>Diesel</td>\n",
       "    </tr>\n",
       "  </tbody>\n",
       "</table>\n",
       "</div>"
      ],
      "text/plain": [
       "                   car_name fuel_type\n",
       "0               Hyundai i20    Petrol\n",
       "1  Mahindra Scorpio Classic    Diesel"
      ]
     },
     "execution_count": 163,
     "metadata": {},
     "output_type": "execute_result"
    }
   ],
   "source": [
    "#Podemos obtener multiples fila especificas\n",
    "x.loc[[0,1]]"
   ]
  },
  {
   "cell_type": "markdown",
   "id": "d4fe096b",
   "metadata": {},
   "source": [
    "#### Lectura CSV"
   ]
  },
  {
   "cell_type": "code",
   "execution_count": 165,
   "id": "98b2c7f8",
   "metadata": {},
   "outputs": [
    {
     "data": {
      "text/html": [
       "<div>\n",
       "<style scoped>\n",
       "    .dataframe tbody tr th:only-of-type {\n",
       "        vertical-align: middle;\n",
       "    }\n",
       "\n",
       "    .dataframe tbody tr th {\n",
       "        vertical-align: top;\n",
       "    }\n",
       "\n",
       "    .dataframe thead th {\n",
       "        text-align: right;\n",
       "    }\n",
       "</style>\n",
       "<table border=\"1\" class=\"dataframe\">\n",
       "  <thead>\n",
       "    <tr style=\"text-align: right;\">\n",
       "      <th></th>\n",
       "      <th>Unnamed: 0</th>\n",
       "      <th>region</th>\n",
       "      <th>country</th>\n",
       "      <th>emissions</th>\n",
       "      <th>type</th>\n",
       "      <th>segment</th>\n",
       "      <th>reason</th>\n",
       "      <th>baseYear</th>\n",
       "      <th>notes</th>\n",
       "    </tr>\n",
       "  </thead>\n",
       "  <tbody>\n",
       "    <tr>\n",
       "      <th>0</th>\n",
       "      <td>0</td>\n",
       "      <td>Africa</td>\n",
       "      <td>Algeria</td>\n",
       "      <td>257.611206</td>\n",
       "      <td>Agriculture</td>\n",
       "      <td>Total</td>\n",
       "      <td>All</td>\n",
       "      <td>2019-2021</td>\n",
       "      <td>Average based on United Nations Framework Conv...</td>\n",
       "    </tr>\n",
       "    <tr>\n",
       "      <th>1</th>\n",
       "      <td>1</td>\n",
       "      <td>Africa</td>\n",
       "      <td>Algeria</td>\n",
       "      <td>0.052000</td>\n",
       "      <td>Energy</td>\n",
       "      <td>Bioenergy</td>\n",
       "      <td>All</td>\n",
       "      <td>2022</td>\n",
       "      <td>Estimates from end-uses are for 2020 or 2021 (...</td>\n",
       "    </tr>\n",
       "    <tr>\n",
       "      <th>2</th>\n",
       "      <td>2</td>\n",
       "      <td>Africa</td>\n",
       "      <td>Algeria</td>\n",
       "      <td>130.798996</td>\n",
       "      <td>Energy</td>\n",
       "      <td>Gas pipelines and LNG facilities</td>\n",
       "      <td>Fugitive</td>\n",
       "      <td>2022</td>\n",
       "      <td>Not available</td>\n",
       "    </tr>\n",
       "    <tr>\n",
       "      <th>3</th>\n",
       "      <td>3</td>\n",
       "      <td>Africa</td>\n",
       "      <td>Algeria</td>\n",
       "      <td>69.741898</td>\n",
       "      <td>Energy</td>\n",
       "      <td>Gas pipelines and LNG facilities</td>\n",
       "      <td>Vented</td>\n",
       "      <td>2022</td>\n",
       "      <td>Not available</td>\n",
       "    </tr>\n",
       "    <tr>\n",
       "      <th>4</th>\n",
       "      <td>4</td>\n",
       "      <td>Africa</td>\n",
       "      <td>Algeria</td>\n",
       "      <td>213.987000</td>\n",
       "      <td>Energy</td>\n",
       "      <td>Onshore gas</td>\n",
       "      <td>Fugitive</td>\n",
       "      <td>2022</td>\n",
       "      <td>Not available</td>\n",
       "    </tr>\n",
       "    <tr>\n",
       "      <th>...</th>\n",
       "      <td>...</td>\n",
       "      <td>...</td>\n",
       "      <td>...</td>\n",
       "      <td>...</td>\n",
       "      <td>...</td>\n",
       "      <td>...</td>\n",
       "      <td>...</td>\n",
       "      <td>...</td>\n",
       "      <td>...</td>\n",
       "    </tr>\n",
       "    <tr>\n",
       "      <th>1543</th>\n",
       "      <td>1543</td>\n",
       "      <td>World</td>\n",
       "      <td>World</td>\n",
       "      <td>3102.500000</td>\n",
       "      <td>Energy</td>\n",
       "      <td>Satellite-detected large oil and gas emissions</td>\n",
       "      <td>All</td>\n",
       "      <td>2022</td>\n",
       "      <td>Not available</td>\n",
       "    </tr>\n",
       "    <tr>\n",
       "      <th>1544</th>\n",
       "      <td>1544</td>\n",
       "      <td>World</td>\n",
       "      <td>World</td>\n",
       "      <td>30296.500000</td>\n",
       "      <td>Energy</td>\n",
       "      <td>Steam coal</td>\n",
       "      <td>All</td>\n",
       "      <td>2022</td>\n",
       "      <td>Not available</td>\n",
       "    </tr>\n",
       "    <tr>\n",
       "      <th>1545</th>\n",
       "      <td>1545</td>\n",
       "      <td>World</td>\n",
       "      <td>World</td>\n",
       "      <td>133350.984375</td>\n",
       "      <td>Energy</td>\n",
       "      <td>Total</td>\n",
       "      <td>All</td>\n",
       "      <td>2022</td>\n",
       "      <td>Estimates from end-uses are for 2020 or 2021 (...</td>\n",
       "    </tr>\n",
       "    <tr>\n",
       "      <th>1546</th>\n",
       "      <td>1546</td>\n",
       "      <td>World</td>\n",
       "      <td>World</td>\n",
       "      <td>9737.874023</td>\n",
       "      <td>Other</td>\n",
       "      <td>Total</td>\n",
       "      <td>All</td>\n",
       "      <td>2019-2021</td>\n",
       "      <td>Average based on United Nations Framework Conv...</td>\n",
       "    </tr>\n",
       "    <tr>\n",
       "      <th>1547</th>\n",
       "      <td>1547</td>\n",
       "      <td>World</td>\n",
       "      <td>World</td>\n",
       "      <td>70758.710938</td>\n",
       "      <td>Waste</td>\n",
       "      <td>Total</td>\n",
       "      <td>All</td>\n",
       "      <td>2019-2021</td>\n",
       "      <td>Average based on United Nations Framework Conv...</td>\n",
       "    </tr>\n",
       "  </tbody>\n",
       "</table>\n",
       "<p>1548 rows × 9 columns</p>\n",
       "</div>"
      ],
      "text/plain": [
       "      Unnamed: 0  region  country      emissions         type  \\\n",
       "0              0  Africa  Algeria     257.611206  Agriculture   \n",
       "1              1  Africa  Algeria       0.052000       Energy   \n",
       "2              2  Africa  Algeria     130.798996       Energy   \n",
       "3              3  Africa  Algeria      69.741898       Energy   \n",
       "4              4  Africa  Algeria     213.987000       Energy   \n",
       "...          ...     ...      ...            ...          ...   \n",
       "1543        1543   World    World    3102.500000       Energy   \n",
       "1544        1544   World    World   30296.500000       Energy   \n",
       "1545        1545   World    World  133350.984375       Energy   \n",
       "1546        1546   World    World    9737.874023        Other   \n",
       "1547        1547   World    World   70758.710938        Waste   \n",
       "\n",
       "                                             segment    reason   baseYear  \\\n",
       "0                                              Total       All  2019-2021   \n",
       "1                                          Bioenergy       All       2022   \n",
       "2                   Gas pipelines and LNG facilities  Fugitive       2022   \n",
       "3                   Gas pipelines and LNG facilities    Vented       2022   \n",
       "4                                        Onshore gas  Fugitive       2022   \n",
       "...                                              ...       ...        ...   \n",
       "1543  Satellite-detected large oil and gas emissions       All       2022   \n",
       "1544                                      Steam coal       All       2022   \n",
       "1545                                           Total       All       2022   \n",
       "1546                                           Total       All  2019-2021   \n",
       "1547                                           Total       All  2019-2021   \n",
       "\n",
       "                                                  notes  \n",
       "0     Average based on United Nations Framework Conv...  \n",
       "1     Estimates from end-uses are for 2020 or 2021 (...  \n",
       "2                                         Not available  \n",
       "3                                         Not available  \n",
       "4                                         Not available  \n",
       "...                                                 ...  \n",
       "1543                                      Not available  \n",
       "1544                                      Not available  \n",
       "1545  Estimates from end-uses are for 2020 or 2021 (...  \n",
       "1546  Average based on United Nations Framework Conv...  \n",
       "1547  Average based on United Nations Framework Conv...  \n",
       "\n",
       "[1548 rows x 9 columns]"
      ]
     },
     "execution_count": 165,
     "metadata": {},
     "output_type": "execute_result"
    }
   ],
   "source": [
    "os.chdir(\"BigData\")\n",
    "#Para leer un archivo csv\n",
    "df = pd.read_csv('Methane_final.csv')\n",
    "df"
   ]
  },
  {
   "cell_type": "markdown",
   "id": "8b40be8b",
   "metadata": {},
   "source": [
    "#### Lectura JSON"
   ]
  },
  {
   "cell_type": "code",
   "execution_count": 196,
   "id": "498743a4",
   "metadata": {
    "scrolled": true
   },
   "outputs": [
    {
     "data": {
      "text/plain": [
       "{'questionType': 'yes/no',\n",
       " 'asin': '1466736038',\n",
       " 'answerTime': 'Mar 8, 2014',\n",
       " 'unixTime': 1394265600,\n",
       " 'question': 'Is there a SIM card in it?',\n",
       " 'answerType': 'Y',\n",
       " 'answer': 'Yes. The Galaxy SIII accommodates a micro SIM card.'}"
      ]
     },
     "execution_count": 196,
     "metadata": {},
     "output_type": "execute_result"
    }
   ],
   "source": [
    "import json\n",
    "f = open(\"prueba.json\")\n",
    "x = json.load(f)\n",
    "f.close()\n",
    "x[0]"
   ]
  },
  {
   "cell_type": "code",
   "execution_count": 197,
   "id": "c0940196",
   "metadata": {},
   "outputs": [
    {
     "data": {
      "text/plain": [
       "'yes/no'"
      ]
     },
     "execution_count": 197,
     "metadata": {},
     "output_type": "execute_result"
    }
   ],
   "source": [
    "x[0]['questionType']"
   ]
  },
  {
   "cell_type": "code",
   "execution_count": 200,
   "id": "674ae552",
   "metadata": {},
   "outputs": [
    {
     "data": {
      "text/html": [
       "<div>\n",
       "<style scoped>\n",
       "    .dataframe tbody tr th:only-of-type {\n",
       "        vertical-align: middle;\n",
       "    }\n",
       "\n",
       "    .dataframe tbody tr th {\n",
       "        vertical-align: top;\n",
       "    }\n",
       "\n",
       "    .dataframe thead th {\n",
       "        text-align: right;\n",
       "    }\n",
       "</style>\n",
       "<table border=\"1\" class=\"dataframe\">\n",
       "  <thead>\n",
       "    <tr style=\"text-align: right;\">\n",
       "      <th></th>\n",
       "      <th>questionType</th>\n",
       "      <th>asin</th>\n",
       "      <th>answerTime</th>\n",
       "      <th>unixTime</th>\n",
       "      <th>question</th>\n",
       "      <th>answerType</th>\n",
       "      <th>answer</th>\n",
       "    </tr>\n",
       "  </thead>\n",
       "  <tbody>\n",
       "    <tr>\n",
       "      <th>0</th>\n",
       "      <td>yes/no</td>\n",
       "      <td>1466736038</td>\n",
       "      <td>Mar 8, 2014</td>\n",
       "      <td>1394265600</td>\n",
       "      <td>Is there a SIM card in it?</td>\n",
       "      <td>Y</td>\n",
       "      <td>Yes. The Galaxy SIII accommodates a micro SIM ...</td>\n",
       "    </tr>\n",
       "    <tr>\n",
       "      <th>1</th>\n",
       "      <td>open-ended</td>\n",
       "      <td>1466736038</td>\n",
       "      <td>Aug 4, 2014</td>\n",
       "      <td>1407135600</td>\n",
       "      <td>Why hasnt it upgraded to latest Android OS 4.4...</td>\n",
       "      <td>NaN</td>\n",
       "      <td>My S3 was able to upgrade to 4.4.2 last week, ...</td>\n",
       "    </tr>\n",
       "  </tbody>\n",
       "</table>\n",
       "</div>"
      ],
      "text/plain": [
       "  questionType        asin   answerTime    unixTime  \\\n",
       "0       yes/no  1466736038  Mar 8, 2014  1394265600   \n",
       "1   open-ended  1466736038  Aug 4, 2014  1407135600   \n",
       "\n",
       "                                            question answerType  \\\n",
       "0                         Is there a SIM card in it?          Y   \n",
       "1  Why hasnt it upgraded to latest Android OS 4.4...        NaN   \n",
       "\n",
       "                                              answer  \n",
       "0  Yes. The Galaxy SIII accommodates a micro SIM ...  \n",
       "1  My S3 was able to upgrade to 4.4.2 last week, ...  "
      ]
     },
     "execution_count": 200,
     "metadata": {},
     "output_type": "execute_result"
    }
   ],
   "source": [
    "#Para leer un json\n",
    "df = pd.read_json('prueba.json')\n",
    "df.head(2)"
   ]
  },
  {
   "cell_type": "markdown",
   "id": "2462874c",
   "metadata": {},
   "source": [
    "#### Analisis de Data"
   ]
  },
  {
   "cell_type": "code",
   "execution_count": 202,
   "id": "e9365035",
   "metadata": {},
   "outputs": [
    {
     "data": {
      "text/html": [
       "<div>\n",
       "<style scoped>\n",
       "    .dataframe tbody tr th:only-of-type {\n",
       "        vertical-align: middle;\n",
       "    }\n",
       "\n",
       "    .dataframe tbody tr th {\n",
       "        vertical-align: top;\n",
       "    }\n",
       "\n",
       "    .dataframe thead th {\n",
       "        text-align: right;\n",
       "    }\n",
       "</style>\n",
       "<table border=\"1\" class=\"dataframe\">\n",
       "  <thead>\n",
       "    <tr style=\"text-align: right;\">\n",
       "      <th></th>\n",
       "      <th>questionType</th>\n",
       "      <th>asin</th>\n",
       "      <th>answerTime</th>\n",
       "      <th>unixTime</th>\n",
       "      <th>question</th>\n",
       "      <th>answerType</th>\n",
       "      <th>answer</th>\n",
       "    </tr>\n",
       "  </thead>\n",
       "  <tbody>\n",
       "    <tr>\n",
       "      <th>0</th>\n",
       "      <td>yes/no</td>\n",
       "      <td>1466736038</td>\n",
       "      <td>Mar 8, 2014</td>\n",
       "      <td>1394265600</td>\n",
       "      <td>Is there a SIM card in it?</td>\n",
       "      <td>Y</td>\n",
       "      <td>Yes. The Galaxy SIII accommodates a micro SIM ...</td>\n",
       "    </tr>\n",
       "    <tr>\n",
       "      <th>1</th>\n",
       "      <td>open-ended</td>\n",
       "      <td>1466736038</td>\n",
       "      <td>Aug 4, 2014</td>\n",
       "      <td>1407135600</td>\n",
       "      <td>Why hasnt it upgraded to latest Android OS 4.4...</td>\n",
       "      <td>NaN</td>\n",
       "      <td>My S3 was able to upgrade to 4.4.2 last week, ...</td>\n",
       "    </tr>\n",
       "    <tr>\n",
       "      <th>2</th>\n",
       "      <td>yes/no</td>\n",
       "      <td>1466736038</td>\n",
       "      <td>Jan 29, 2015</td>\n",
       "      <td>1422518400</td>\n",
       "      <td>Is this phone new, with 1 year manufacture war...</td>\n",
       "      <td>?</td>\n",
       "      <td>It is new but I was not able to get it activat...</td>\n",
       "    </tr>\n",
       "  </tbody>\n",
       "</table>\n",
       "</div>"
      ],
      "text/plain": [
       "  questionType        asin    answerTime    unixTime  \\\n",
       "0       yes/no  1466736038   Mar 8, 2014  1394265600   \n",
       "1   open-ended  1466736038   Aug 4, 2014  1407135600   \n",
       "2       yes/no  1466736038  Jan 29, 2015  1422518400   \n",
       "\n",
       "                                            question answerType  \\\n",
       "0                         Is there a SIM card in it?          Y   \n",
       "1  Why hasnt it upgraded to latest Android OS 4.4...        NaN   \n",
       "2  Is this phone new, with 1 year manufacture war...          ?   \n",
       "\n",
       "                                              answer  \n",
       "0  Yes. The Galaxy SIII accommodates a micro SIM ...  \n",
       "1  My S3 was able to upgrade to 4.4.2 last week, ...  \n",
       "2  It is new but I was not able to get it activat...  "
      ]
     },
     "execution_count": 202,
     "metadata": {},
     "output_type": "execute_result"
    }
   ],
   "source": [
    "#Para ver cierta cantidad de datos desde el inicio usamos la funcion head\n",
    "df.head(3)"
   ]
  },
  {
   "cell_type": "code",
   "execution_count": 204,
   "id": "7eb61750",
   "metadata": {},
   "outputs": [
    {
     "data": {
      "text/html": [
       "<div>\n",
       "<style scoped>\n",
       "    .dataframe tbody tr th:only-of-type {\n",
       "        vertical-align: middle;\n",
       "    }\n",
       "\n",
       "    .dataframe tbody tr th {\n",
       "        vertical-align: top;\n",
       "    }\n",
       "\n",
       "    .dataframe thead th {\n",
       "        text-align: right;\n",
       "    }\n",
       "</style>\n",
       "<table border=\"1\" class=\"dataframe\">\n",
       "  <thead>\n",
       "    <tr style=\"text-align: right;\">\n",
       "      <th></th>\n",
       "      <th>questionType</th>\n",
       "      <th>asin</th>\n",
       "      <th>answerTime</th>\n",
       "      <th>unixTime</th>\n",
       "      <th>question</th>\n",
       "      <th>answerType</th>\n",
       "      <th>answer</th>\n",
       "    </tr>\n",
       "  </thead>\n",
       "  <tbody>\n",
       "    <tr>\n",
       "      <th>9</th>\n",
       "      <td>yes/no</td>\n",
       "      <td>1466736038</td>\n",
       "      <td>Sep 3, 2014</td>\n",
       "      <td>1409727600</td>\n",
       "      <td>will this phone work with straight talk?</td>\n",
       "      <td>?</td>\n",
       "      <td>As an unlocked phone it is capable of working ...</td>\n",
       "    </tr>\n",
       "    <tr>\n",
       "      <th>10</th>\n",
       "      <td>yes/no</td>\n",
       "      <td>1621911888</td>\n",
       "      <td>Dec 13, 2013</td>\n",
       "      <td>1386921600</td>\n",
       "      <td>Is it unlocked?</td>\n",
       "      <td>Y</td>\n",
       "      <td>yes</td>\n",
       "    </tr>\n",
       "    <tr>\n",
       "      <th>11</th>\n",
       "      <td>yes/no</td>\n",
       "      <td>1621911888</td>\n",
       "      <td>Dec 13, 2013</td>\n",
       "      <td>1386921600</td>\n",
       "      <td>Is it international?</td>\n",
       "      <td>Y</td>\n",
       "      <td>yes it is international.</td>\n",
       "    </tr>\n",
       "  </tbody>\n",
       "</table>\n",
       "</div>"
      ],
      "text/plain": [
       "   questionType        asin    answerTime    unixTime  \\\n",
       "9        yes/no  1466736038   Sep 3, 2014  1409727600   \n",
       "10       yes/no  1621911888  Dec 13, 2013  1386921600   \n",
       "11       yes/no  1621911888  Dec 13, 2013  1386921600   \n",
       "\n",
       "                                    question answerType  \\\n",
       "9   will this phone work with straight talk?          ?   \n",
       "10                           Is it unlocked?          Y   \n",
       "11                      Is it international?          Y   \n",
       "\n",
       "                                               answer  \n",
       "9   As an unlocked phone it is capable of working ...  \n",
       "10                                                yes  \n",
       "11                           yes it is international.  "
      ]
     },
     "execution_count": 204,
     "metadata": {},
     "output_type": "execute_result"
    }
   ],
   "source": [
    "#Para ver cierta cantidad de datos desde el final usamos la funcion tail\n",
    "df.tail(3)"
   ]
  },
  {
   "cell_type": "code",
   "execution_count": 205,
   "id": "cadb9c82",
   "metadata": {},
   "outputs": [
    {
     "name": "stdout",
     "output_type": "stream",
     "text": [
      "<class 'pandas.core.frame.DataFrame'>\n",
      "RangeIndex: 12 entries, 0 to 11\n",
      "Data columns (total 7 columns):\n",
      " #   Column        Non-Null Count  Dtype \n",
      "---  ------        --------------  ----- \n",
      " 0   questionType  12 non-null     object\n",
      " 1   asin          12 non-null     int64 \n",
      " 2   answerTime    12 non-null     object\n",
      " 3   unixTime      12 non-null     int64 \n",
      " 4   question      12 non-null     object\n",
      " 5   answerType    8 non-null      object\n",
      " 6   answer        12 non-null     object\n",
      "dtypes: int64(2), object(5)\n",
      "memory usage: 800.0+ bytes\n"
     ]
    }
   ],
   "source": [
    "#Para tener información de la data\n",
    "df.info()"
   ]
  },
  {
   "cell_type": "markdown",
   "id": "6406af07",
   "metadata": {},
   "source": [
    "#### Para limpieza de datos "
   ]
  },
  {
   "cell_type": "code",
   "execution_count": 206,
   "id": "24b24674",
   "metadata": {},
   "outputs": [
    {
     "name": "stdout",
     "output_type": "stream",
     "text": [
      "<class 'pandas.core.frame.DataFrame'>\n",
      "Int64Index: 8 entries, 0 to 11\n",
      "Data columns (total 7 columns):\n",
      " #   Column        Non-Null Count  Dtype \n",
      "---  ------        --------------  ----- \n",
      " 0   questionType  8 non-null      object\n",
      " 1   asin          8 non-null      int64 \n",
      " 2   answerTime    8 non-null      object\n",
      " 3   unixTime      8 non-null      int64 \n",
      " 4   question      8 non-null      object\n",
      " 5   answerType    8 non-null      object\n",
      " 6   answer        8 non-null      object\n",
      "dtypes: int64(2), object(5)\n",
      "memory usage: 512.0+ bytes\n"
     ]
    }
   ],
   "source": [
    "#Obtener el dataframe sin resultados vacios usamos la funcion dropna, si quisieraramos cambiar el df original \n",
    "# usamos inplace=True\n",
    "new_df=df.dropna()\n",
    "new_df.info()"
   ]
  },
  {
   "cell_type": "code",
   "execution_count": 207,
   "id": "08e8090e",
   "metadata": {},
   "outputs": [
    {
     "data": {
      "text/html": [
       "<div>\n",
       "<style scoped>\n",
       "    .dataframe tbody tr th:only-of-type {\n",
       "        vertical-align: middle;\n",
       "    }\n",
       "\n",
       "    .dataframe tbody tr th {\n",
       "        vertical-align: top;\n",
       "    }\n",
       "\n",
       "    .dataframe thead th {\n",
       "        text-align: right;\n",
       "    }\n",
       "</style>\n",
       "<table border=\"1\" class=\"dataframe\">\n",
       "  <thead>\n",
       "    <tr style=\"text-align: right;\">\n",
       "      <th></th>\n",
       "      <th>questionType</th>\n",
       "      <th>asin</th>\n",
       "      <th>answerTime</th>\n",
       "      <th>unixTime</th>\n",
       "      <th>question</th>\n",
       "      <th>answerType</th>\n",
       "      <th>answer</th>\n",
       "    </tr>\n",
       "  </thead>\n",
       "  <tbody>\n",
       "    <tr>\n",
       "      <th>0</th>\n",
       "      <td>yes/no</td>\n",
       "      <td>1466736038</td>\n",
       "      <td>Mar 8, 2014</td>\n",
       "      <td>1394265600</td>\n",
       "      <td>Is there a SIM card in it?</td>\n",
       "      <td>Y</td>\n",
       "      <td>Yes. The Galaxy SIII accommodates a micro SIM ...</td>\n",
       "    </tr>\n",
       "    <tr>\n",
       "      <th>2</th>\n",
       "      <td>yes/no</td>\n",
       "      <td>1466736038</td>\n",
       "      <td>Jan 29, 2015</td>\n",
       "      <td>1422518400</td>\n",
       "      <td>Is this phone new, with 1 year manufacture war...</td>\n",
       "      <td>?</td>\n",
       "      <td>It is new but I was not able to get it activat...</td>\n",
       "    </tr>\n",
       "    <tr>\n",
       "      <th>3</th>\n",
       "      <td>yes/no</td>\n",
       "      <td>1466736038</td>\n",
       "      <td>Nov 30, 2014</td>\n",
       "      <td>1417334400</td>\n",
       "      <td>can in it be used abroad with a different carr...</td>\n",
       "      <td>Y</td>\n",
       "      <td>Yes</td>\n",
       "    </tr>\n",
       "    <tr>\n",
       "      <th>4</th>\n",
       "      <td>yes/no</td>\n",
       "      <td>1466736038</td>\n",
       "      <td>Nov 24, 2014</td>\n",
       "      <td>1416816000</td>\n",
       "      <td>Is this phone brand new and NOT a mini?</td>\n",
       "      <td>?</td>\n",
       "      <td>The phone we received was exactly as described...</td>\n",
       "    </tr>\n",
       "    <tr>\n",
       "      <th>7</th>\n",
       "      <td>yes/no</td>\n",
       "      <td>1466736038</td>\n",
       "      <td>Oct 2, 2014</td>\n",
       "      <td>1412233200</td>\n",
       "      <td>Does this phone use the regular Sim card (the ...</td>\n",
       "      <td>?</td>\n",
       "      <td>it takes mini sim</td>\n",
       "    </tr>\n",
       "    <tr>\n",
       "      <th>9</th>\n",
       "      <td>yes/no</td>\n",
       "      <td>1466736038</td>\n",
       "      <td>Sep 3, 2014</td>\n",
       "      <td>1409727600</td>\n",
       "      <td>will this phone work with straight talk?</td>\n",
       "      <td>?</td>\n",
       "      <td>As an unlocked phone it is capable of working ...</td>\n",
       "    </tr>\n",
       "    <tr>\n",
       "      <th>10</th>\n",
       "      <td>yes/no</td>\n",
       "      <td>1621911888</td>\n",
       "      <td>Dec 13, 2013</td>\n",
       "      <td>1386921600</td>\n",
       "      <td>Is it unlocked?</td>\n",
       "      <td>Y</td>\n",
       "      <td>yes</td>\n",
       "    </tr>\n",
       "    <tr>\n",
       "      <th>11</th>\n",
       "      <td>yes/no</td>\n",
       "      <td>1621911888</td>\n",
       "      <td>Dec 13, 2013</td>\n",
       "      <td>1386921600</td>\n",
       "      <td>Is it international?</td>\n",
       "      <td>Y</td>\n",
       "      <td>yes it is international.</td>\n",
       "    </tr>\n",
       "  </tbody>\n",
       "</table>\n",
       "</div>"
      ],
      "text/plain": [
       "   questionType        asin    answerTime    unixTime  \\\n",
       "0        yes/no  1466736038   Mar 8, 2014  1394265600   \n",
       "2        yes/no  1466736038  Jan 29, 2015  1422518400   \n",
       "3        yes/no  1466736038  Nov 30, 2014  1417334400   \n",
       "4        yes/no  1466736038  Nov 24, 2014  1416816000   \n",
       "7        yes/no  1466736038   Oct 2, 2014  1412233200   \n",
       "9        yes/no  1466736038   Sep 3, 2014  1409727600   \n",
       "10       yes/no  1621911888  Dec 13, 2013  1386921600   \n",
       "11       yes/no  1621911888  Dec 13, 2013  1386921600   \n",
       "\n",
       "                                             question answerType  \\\n",
       "0                          Is there a SIM card in it?          Y   \n",
       "2   Is this phone new, with 1 year manufacture war...          ?   \n",
       "3   can in it be used abroad with a different carr...          Y   \n",
       "4             Is this phone brand new and NOT a mini?          ?   \n",
       "7   Does this phone use the regular Sim card (the ...          ?   \n",
       "9            will this phone work with straight talk?          ?   \n",
       "10                                    Is it unlocked?          Y   \n",
       "11                               Is it international?          Y   \n",
       "\n",
       "                                               answer  \n",
       "0   Yes. The Galaxy SIII accommodates a micro SIM ...  \n",
       "2   It is new but I was not able to get it activat...  \n",
       "3                                                 Yes  \n",
       "4   The phone we received was exactly as described...  \n",
       "7                                   it takes mini sim  \n",
       "9   As an unlocked phone it is capable of working ...  \n",
       "10                                                yes  \n",
       "11                           yes it is international.  "
      ]
     },
     "execution_count": 207,
     "metadata": {},
     "output_type": "execute_result"
    }
   ],
   "source": [
    "new_df"
   ]
  },
  {
   "cell_type": "code",
   "execution_count": 209,
   "id": "a543aa8b",
   "metadata": {},
   "outputs": [
    {
     "name": "stdout",
     "output_type": "stream",
     "text": [
      "<class 'pandas.core.frame.DataFrame'>\n",
      "RangeIndex: 12 entries, 0 to 11\n",
      "Data columns (total 7 columns):\n",
      " #   Column        Non-Null Count  Dtype \n",
      "---  ------        --------------  ----- \n",
      " 0   questionType  12 non-null     object\n",
      " 1   asin          12 non-null     int64 \n",
      " 2   answerTime    12 non-null     object\n",
      " 3   unixTime      12 non-null     int64 \n",
      " 4   question      12 non-null     object\n",
      " 5   answerType    12 non-null     object\n",
      " 6   answer        12 non-null     object\n",
      "dtypes: int64(2), object(5)\n",
      "memory usage: 800.0+ bytes\n"
     ]
    }
   ],
   "source": [
    "#Si en lugar de eliminar esa filas que contengan vacios, queremos reemplazar con ciertos valores usamos fillna\n",
    "df_new= df\n",
    "df_new[\"answerType\"].fillna('N',inplace=True)\n",
    "df_new.info()"
   ]
  },
  {
   "cell_type": "code",
   "execution_count": 210,
   "id": "b3edd67b",
   "metadata": {},
   "outputs": [
    {
     "data": {
      "text/html": [
       "<div>\n",
       "<style scoped>\n",
       "    .dataframe tbody tr th:only-of-type {\n",
       "        vertical-align: middle;\n",
       "    }\n",
       "\n",
       "    .dataframe tbody tr th {\n",
       "        vertical-align: top;\n",
       "    }\n",
       "\n",
       "    .dataframe thead th {\n",
       "        text-align: right;\n",
       "    }\n",
       "</style>\n",
       "<table border=\"1\" class=\"dataframe\">\n",
       "  <thead>\n",
       "    <tr style=\"text-align: right;\">\n",
       "      <th></th>\n",
       "      <th>questionType</th>\n",
       "      <th>asin</th>\n",
       "      <th>answerTime</th>\n",
       "      <th>unixTime</th>\n",
       "      <th>question</th>\n",
       "      <th>answerType</th>\n",
       "      <th>answer</th>\n",
       "    </tr>\n",
       "  </thead>\n",
       "  <tbody>\n",
       "    <tr>\n",
       "      <th>0</th>\n",
       "      <td>yes/no</td>\n",
       "      <td>1466736038</td>\n",
       "      <td>Mar 8, 2014</td>\n",
       "      <td>1394265600</td>\n",
       "      <td>Is there a SIM card in it?</td>\n",
       "      <td>Y</td>\n",
       "      <td>Yes. The Galaxy SIII accommodates a micro SIM ...</td>\n",
       "    </tr>\n",
       "    <tr>\n",
       "      <th>1</th>\n",
       "      <td>open-ended</td>\n",
       "      <td>1466736038</td>\n",
       "      <td>Aug 4, 2014</td>\n",
       "      <td>1407135600</td>\n",
       "      <td>Why hasnt it upgraded to latest Android OS 4.4...</td>\n",
       "      <td>N</td>\n",
       "      <td>My S3 was able to upgrade to 4.4.2 last week, ...</td>\n",
       "    </tr>\n",
       "    <tr>\n",
       "      <th>2</th>\n",
       "      <td>yes/no</td>\n",
       "      <td>1466736038</td>\n",
       "      <td>Jan 29, 2015</td>\n",
       "      <td>1422518400</td>\n",
       "      <td>Is this phone new, with 1 year manufacture war...</td>\n",
       "      <td>?</td>\n",
       "      <td>It is new but I was not able to get it activat...</td>\n",
       "    </tr>\n",
       "    <tr>\n",
       "      <th>3</th>\n",
       "      <td>yes/no</td>\n",
       "      <td>1466736038</td>\n",
       "      <td>Nov 30, 2014</td>\n",
       "      <td>1417334400</td>\n",
       "      <td>can in it be used abroad with a different carr...</td>\n",
       "      <td>Y</td>\n",
       "      <td>Yes</td>\n",
       "    </tr>\n",
       "    <tr>\n",
       "      <th>4</th>\n",
       "      <td>yes/no</td>\n",
       "      <td>1466736038</td>\n",
       "      <td>Nov 24, 2014</td>\n",
       "      <td>1416816000</td>\n",
       "      <td>Is this phone brand new and NOT a mini?</td>\n",
       "      <td>?</td>\n",
       "      <td>The phone we received was exactly as described...</td>\n",
       "    </tr>\n",
       "    <tr>\n",
       "      <th>5</th>\n",
       "      <td>open-ended</td>\n",
       "      <td>1466736038</td>\n",
       "      <td>Nov 3, 2014</td>\n",
       "      <td>1415001600</td>\n",
       "      <td>What is the warranty on this?</td>\n",
       "      <td>N</td>\n",
       "      <td>No warranty</td>\n",
       "    </tr>\n",
       "    <tr>\n",
       "      <th>6</th>\n",
       "      <td>open-ended</td>\n",
       "      <td>1466736038</td>\n",
       "      <td>Oct 14, 2014</td>\n",
       "      <td>1413270000</td>\n",
       "      <td>this product is used with GSM chip in my count...</td>\n",
       "      <td>N</td>\n",
       "      <td>I am sure (but not positive) that this phone w...</td>\n",
       "    </tr>\n",
       "    <tr>\n",
       "      <th>7</th>\n",
       "      <td>yes/no</td>\n",
       "      <td>1466736038</td>\n",
       "      <td>Oct 2, 2014</td>\n",
       "      <td>1412233200</td>\n",
       "      <td>Does this phone use the regular Sim card (the ...</td>\n",
       "      <td>?</td>\n",
       "      <td>it takes mini sim</td>\n",
       "    </tr>\n",
       "    <tr>\n",
       "      <th>8</th>\n",
       "      <td>open-ended</td>\n",
       "      <td>1466736038</td>\n",
       "      <td>Sep 11, 2014</td>\n",
       "      <td>1410418800</td>\n",
       "      <td>how much time you need to send me this product...</td>\n",
       "      <td>N</td>\n",
       "      <td>If you choose expedited shipping you will have...</td>\n",
       "    </tr>\n",
       "    <tr>\n",
       "      <th>9</th>\n",
       "      <td>yes/no</td>\n",
       "      <td>1466736038</td>\n",
       "      <td>Sep 3, 2014</td>\n",
       "      <td>1409727600</td>\n",
       "      <td>will this phone work with straight talk?</td>\n",
       "      <td>?</td>\n",
       "      <td>As an unlocked phone it is capable of working ...</td>\n",
       "    </tr>\n",
       "    <tr>\n",
       "      <th>10</th>\n",
       "      <td>yes/no</td>\n",
       "      <td>1621911888</td>\n",
       "      <td>Dec 13, 2013</td>\n",
       "      <td>1386921600</td>\n",
       "      <td>Is it unlocked?</td>\n",
       "      <td>Y</td>\n",
       "      <td>yes</td>\n",
       "    </tr>\n",
       "    <tr>\n",
       "      <th>11</th>\n",
       "      <td>yes/no</td>\n",
       "      <td>1621911888</td>\n",
       "      <td>Dec 13, 2013</td>\n",
       "      <td>1386921600</td>\n",
       "      <td>Is it international?</td>\n",
       "      <td>Y</td>\n",
       "      <td>yes it is international.</td>\n",
       "    </tr>\n",
       "  </tbody>\n",
       "</table>\n",
       "</div>"
      ],
      "text/plain": [
       "   questionType        asin    answerTime    unixTime  \\\n",
       "0        yes/no  1466736038   Mar 8, 2014  1394265600   \n",
       "1    open-ended  1466736038   Aug 4, 2014  1407135600   \n",
       "2        yes/no  1466736038  Jan 29, 2015  1422518400   \n",
       "3        yes/no  1466736038  Nov 30, 2014  1417334400   \n",
       "4        yes/no  1466736038  Nov 24, 2014  1416816000   \n",
       "5    open-ended  1466736038   Nov 3, 2014  1415001600   \n",
       "6    open-ended  1466736038  Oct 14, 2014  1413270000   \n",
       "7        yes/no  1466736038   Oct 2, 2014  1412233200   \n",
       "8    open-ended  1466736038  Sep 11, 2014  1410418800   \n",
       "9        yes/no  1466736038   Sep 3, 2014  1409727600   \n",
       "10       yes/no  1621911888  Dec 13, 2013  1386921600   \n",
       "11       yes/no  1621911888  Dec 13, 2013  1386921600   \n",
       "\n",
       "                                             question answerType  \\\n",
       "0                          Is there a SIM card in it?          Y   \n",
       "1   Why hasnt it upgraded to latest Android OS 4.4...          N   \n",
       "2   Is this phone new, with 1 year manufacture war...          ?   \n",
       "3   can in it be used abroad with a different carr...          Y   \n",
       "4             Is this phone brand new and NOT a mini?          ?   \n",
       "5                       What is the warranty on this?          N   \n",
       "6   this product is used with GSM chip in my count...          N   \n",
       "7   Does this phone use the regular Sim card (the ...          ?   \n",
       "8   how much time you need to send me this product...          N   \n",
       "9            will this phone work with straight talk?          ?   \n",
       "10                                    Is it unlocked?          Y   \n",
       "11                               Is it international?          Y   \n",
       "\n",
       "                                               answer  \n",
       "0   Yes. The Galaxy SIII accommodates a micro SIM ...  \n",
       "1   My S3 was able to upgrade to 4.4.2 last week, ...  \n",
       "2   It is new but I was not able to get it activat...  \n",
       "3                                                 Yes  \n",
       "4   The phone we received was exactly as described...  \n",
       "5                                         No warranty  \n",
       "6   I am sure (but not positive) that this phone w...  \n",
       "7                                   it takes mini sim  \n",
       "8   If you choose expedited shipping you will have...  \n",
       "9   As an unlocked phone it is capable of working ...  \n",
       "10                                                yes  \n",
       "11                           yes it is international.  "
      ]
     },
     "execution_count": 210,
     "metadata": {},
     "output_type": "execute_result"
    }
   ],
   "source": [
    "df_new"
   ]
  },
  {
   "cell_type": "code",
   "execution_count": 214,
   "id": "f34f0ceb",
   "metadata": {},
   "outputs": [
    {
     "data": {
      "text/html": [
       "<div>\n",
       "<style scoped>\n",
       "    .dataframe tbody tr th:only-of-type {\n",
       "        vertical-align: middle;\n",
       "    }\n",
       "\n",
       "    .dataframe tbody tr th {\n",
       "        vertical-align: top;\n",
       "    }\n",
       "\n",
       "    .dataframe thead th {\n",
       "        text-align: right;\n",
       "    }\n",
       "</style>\n",
       "<table border=\"1\" class=\"dataframe\">\n",
       "  <thead>\n",
       "    <tr style=\"text-align: right;\">\n",
       "      <th></th>\n",
       "      <th>questionType</th>\n",
       "      <th>asin</th>\n",
       "      <th>answerTime</th>\n",
       "      <th>unixTime</th>\n",
       "      <th>question</th>\n",
       "      <th>answerType</th>\n",
       "      <th>answer</th>\n",
       "    </tr>\n",
       "  </thead>\n",
       "  <tbody>\n",
       "    <tr>\n",
       "      <th>1</th>\n",
       "      <td>open-ended</td>\n",
       "      <td>1466736038</td>\n",
       "      <td>Aug 4, 2014</td>\n",
       "      <td>1407135600</td>\n",
       "      <td>Why hasnt it upgraded to latest Android OS 4.4...</td>\n",
       "      <td>N</td>\n",
       "      <td>My S3 was able to upgrade to 4.4.2 last week, ...</td>\n",
       "    </tr>\n",
       "    <tr>\n",
       "      <th>5</th>\n",
       "      <td>open-ended</td>\n",
       "      <td>1466736038</td>\n",
       "      <td>Nov 3, 2014</td>\n",
       "      <td>1415001600</td>\n",
       "      <td>What is the warranty on this?</td>\n",
       "      <td>N</td>\n",
       "      <td>No warranty</td>\n",
       "    </tr>\n",
       "    <tr>\n",
       "      <th>6</th>\n",
       "      <td>open-ended</td>\n",
       "      <td>1466736038</td>\n",
       "      <td>Oct 14, 2014</td>\n",
       "      <td>1413270000</td>\n",
       "      <td>this product is used with GSM chip in my count...</td>\n",
       "      <td>N</td>\n",
       "      <td>I am sure (but not positive) that this phone w...</td>\n",
       "    </tr>\n",
       "    <tr>\n",
       "      <th>8</th>\n",
       "      <td>open-ended</td>\n",
       "      <td>1466736038</td>\n",
       "      <td>Sep 11, 2014</td>\n",
       "      <td>1410418800</td>\n",
       "      <td>how much time you need to send me this product...</td>\n",
       "      <td>N</td>\n",
       "      <td>If you choose expedited shipping you will have...</td>\n",
       "    </tr>\n",
       "  </tbody>\n",
       "</table>\n",
       "</div>"
      ],
      "text/plain": [
       "  questionType        asin    answerTime    unixTime  \\\n",
       "1   open-ended  1466736038   Aug 4, 2014  1407135600   \n",
       "5   open-ended  1466736038   Nov 3, 2014  1415001600   \n",
       "6   open-ended  1466736038  Oct 14, 2014  1413270000   \n",
       "8   open-ended  1466736038  Sep 11, 2014  1410418800   \n",
       "\n",
       "                                            question answerType  \\\n",
       "1  Why hasnt it upgraded to latest Android OS 4.4...          N   \n",
       "5                      What is the warranty on this?          N   \n",
       "6  this product is used with GSM chip in my count...          N   \n",
       "8  how much time you need to send me this product...          N   \n",
       "\n",
       "                                              answer  \n",
       "1  My S3 was able to upgrade to 4.4.2 last week, ...  \n",
       "5                                        No warranty  \n",
       "6  I am sure (but not positive) that this phone w...  \n",
       "8  If you choose expedited shipping you will have...  "
      ]
     },
     "execution_count": 214,
     "metadata": {},
     "output_type": "execute_result"
    }
   ],
   "source": [
    "#Para filtrar la filas que cumplan la condicion\n",
    "df_new[df_new[\"answerType\"]=='N']"
   ]
  },
  {
   "cell_type": "code",
   "execution_count": 221,
   "id": "5175846a",
   "metadata": {},
   "outputs": [
    {
     "data": {
      "text/html": [
       "<div>\n",
       "<style scoped>\n",
       "    .dataframe tbody tr th:only-of-type {\n",
       "        vertical-align: middle;\n",
       "    }\n",
       "\n",
       "    .dataframe tbody tr th {\n",
       "        vertical-align: top;\n",
       "    }\n",
       "\n",
       "    .dataframe thead th {\n",
       "        text-align: right;\n",
       "    }\n",
       "</style>\n",
       "<table border=\"1\" class=\"dataframe\">\n",
       "  <thead>\n",
       "    <tr style=\"text-align: right;\">\n",
       "      <th></th>\n",
       "      <th>answerType</th>\n",
       "      <th>question</th>\n",
       "    </tr>\n",
       "  </thead>\n",
       "  <tbody>\n",
       "    <tr>\n",
       "      <th>0</th>\n",
       "      <td>Y</td>\n",
       "      <td>Is there a SIM card in it?</td>\n",
       "    </tr>\n",
       "    <tr>\n",
       "      <th>1</th>\n",
       "      <td>N</td>\n",
       "      <td>Why hasnt it upgraded to latest Android OS 4.4...</td>\n",
       "    </tr>\n",
       "    <tr>\n",
       "      <th>2</th>\n",
       "      <td>?</td>\n",
       "      <td>Is this phone new, with 1 year manufacture war...</td>\n",
       "    </tr>\n",
       "    <tr>\n",
       "      <th>3</th>\n",
       "      <td>Y</td>\n",
       "      <td>can in it be used abroad with a different carr...</td>\n",
       "    </tr>\n",
       "    <tr>\n",
       "      <th>4</th>\n",
       "      <td>?</td>\n",
       "      <td>Is this phone brand new and NOT a mini?</td>\n",
       "    </tr>\n",
       "    <tr>\n",
       "      <th>5</th>\n",
       "      <td>N</td>\n",
       "      <td>What is the warranty on this?</td>\n",
       "    </tr>\n",
       "    <tr>\n",
       "      <th>6</th>\n",
       "      <td>N</td>\n",
       "      <td>this product is used with GSM chip in my count...</td>\n",
       "    </tr>\n",
       "    <tr>\n",
       "      <th>7</th>\n",
       "      <td>?</td>\n",
       "      <td>Does this phone use the regular Sim card (the ...</td>\n",
       "    </tr>\n",
       "    <tr>\n",
       "      <th>8</th>\n",
       "      <td>N</td>\n",
       "      <td>how much time you need to send me this product...</td>\n",
       "    </tr>\n",
       "    <tr>\n",
       "      <th>9</th>\n",
       "      <td>?</td>\n",
       "      <td>will this phone work with straight talk?</td>\n",
       "    </tr>\n",
       "    <tr>\n",
       "      <th>10</th>\n",
       "      <td>Y</td>\n",
       "      <td>Is it unlocked?</td>\n",
       "    </tr>\n",
       "    <tr>\n",
       "      <th>11</th>\n",
       "      <td>Y</td>\n",
       "      <td>Is it international?</td>\n",
       "    </tr>\n",
       "  </tbody>\n",
       "</table>\n",
       "</div>"
      ],
      "text/plain": [
       "   answerType                                           question\n",
       "0           Y                         Is there a SIM card in it?\n",
       "1           N  Why hasnt it upgraded to latest Android OS 4.4...\n",
       "2           ?  Is this phone new, with 1 year manufacture war...\n",
       "3           Y  can in it be used abroad with a different carr...\n",
       "4           ?            Is this phone brand new and NOT a mini?\n",
       "5           N                      What is the warranty on this?\n",
       "6           N  this product is used with GSM chip in my count...\n",
       "7           ?  Does this phone use the regular Sim card (the ...\n",
       "8           N  how much time you need to send me this product...\n",
       "9           ?           will this phone work with straight talk?\n",
       "10          Y                                    Is it unlocked?\n",
       "11          Y                               Is it international?"
      ]
     },
     "execution_count": 221,
     "metadata": {},
     "output_type": "execute_result"
    }
   ],
   "source": [
    "#Para filtrar por nombre de columna\n",
    "df_new.filter(items=['answerType','question'])"
   ]
  },
  {
   "cell_type": "code",
   "execution_count": 220,
   "id": "5c97d9e7",
   "metadata": {},
   "outputs": [
    {
     "data": {
      "text/html": [
       "<div>\n",
       "<style scoped>\n",
       "    .dataframe tbody tr th:only-of-type {\n",
       "        vertical-align: middle;\n",
       "    }\n",
       "\n",
       "    .dataframe tbody tr th {\n",
       "        vertical-align: top;\n",
       "    }\n",
       "\n",
       "    .dataframe thead th {\n",
       "        text-align: right;\n",
       "    }\n",
       "</style>\n",
       "<table border=\"1\" class=\"dataframe\">\n",
       "  <thead>\n",
       "    <tr style=\"text-align: right;\">\n",
       "      <th></th>\n",
       "      <th>answerType</th>\n",
       "      <th>question</th>\n",
       "    </tr>\n",
       "  </thead>\n",
       "  <tbody>\n",
       "    <tr>\n",
       "      <th>0</th>\n",
       "      <td>Y</td>\n",
       "      <td>Is there a SIM card in it?</td>\n",
       "    </tr>\n",
       "    <tr>\n",
       "      <th>1</th>\n",
       "      <td>N</td>\n",
       "      <td>Why hasnt it upgraded to latest Android OS 4.4...</td>\n",
       "    </tr>\n",
       "    <tr>\n",
       "      <th>2</th>\n",
       "      <td>?</td>\n",
       "      <td>Is this phone new, with 1 year manufacture war...</td>\n",
       "    </tr>\n",
       "    <tr>\n",
       "      <th>3</th>\n",
       "      <td>Y</td>\n",
       "      <td>can in it be used abroad with a different carr...</td>\n",
       "    </tr>\n",
       "    <tr>\n",
       "      <th>4</th>\n",
       "      <td>?</td>\n",
       "      <td>Is this phone brand new and NOT a mini?</td>\n",
       "    </tr>\n",
       "    <tr>\n",
       "      <th>5</th>\n",
       "      <td>N</td>\n",
       "      <td>What is the warranty on this?</td>\n",
       "    </tr>\n",
       "    <tr>\n",
       "      <th>6</th>\n",
       "      <td>N</td>\n",
       "      <td>this product is used with GSM chip in my count...</td>\n",
       "    </tr>\n",
       "    <tr>\n",
       "      <th>7</th>\n",
       "      <td>?</td>\n",
       "      <td>Does this phone use the regular Sim card (the ...</td>\n",
       "    </tr>\n",
       "    <tr>\n",
       "      <th>8</th>\n",
       "      <td>N</td>\n",
       "      <td>how much time you need to send me this product...</td>\n",
       "    </tr>\n",
       "    <tr>\n",
       "      <th>9</th>\n",
       "      <td>?</td>\n",
       "      <td>will this phone work with straight talk?</td>\n",
       "    </tr>\n",
       "    <tr>\n",
       "      <th>10</th>\n",
       "      <td>Y</td>\n",
       "      <td>Is it unlocked?</td>\n",
       "    </tr>\n",
       "    <tr>\n",
       "      <th>11</th>\n",
       "      <td>Y</td>\n",
       "      <td>Is it international?</td>\n",
       "    </tr>\n",
       "  </tbody>\n",
       "</table>\n",
       "</div>"
      ],
      "text/plain": [
       "   answerType                                           question\n",
       "0           Y                         Is there a SIM card in it?\n",
       "1           N  Why hasnt it upgraded to latest Android OS 4.4...\n",
       "2           ?  Is this phone new, with 1 year manufacture war...\n",
       "3           Y  can in it be used abroad with a different carr...\n",
       "4           ?            Is this phone brand new and NOT a mini?\n",
       "5           N                      What is the warranty on this?\n",
       "6           N  this product is used with GSM chip in my count...\n",
       "7           ?  Does this phone use the regular Sim card (the ...\n",
       "8           N  how much time you need to send me this product...\n",
       "9           ?           will this phone work with straight talk?\n",
       "10          Y                                    Is it unlocked?\n",
       "11          Y                               Is it international?"
      ]
     },
     "execution_count": 220,
     "metadata": {},
     "output_type": "execute_result"
    }
   ],
   "source": [
    "#Para seleccionar columnas\n",
    "df_new[['answerType','question']]"
   ]
  },
  {
   "cell_type": "code",
   "execution_count": 222,
   "id": "2b9e4fa7",
   "metadata": {},
   "outputs": [
    {
     "data": {
      "text/html": [
       "<div>\n",
       "<style scoped>\n",
       "    .dataframe tbody tr th:only-of-type {\n",
       "        vertical-align: middle;\n",
       "    }\n",
       "\n",
       "    .dataframe tbody tr th {\n",
       "        vertical-align: top;\n",
       "    }\n",
       "\n",
       "    .dataframe thead th {\n",
       "        text-align: right;\n",
       "    }\n",
       "</style>\n",
       "<table border=\"1\" class=\"dataframe\">\n",
       "  <thead>\n",
       "    <tr style=\"text-align: right;\">\n",
       "      <th></th>\n",
       "      <th>questionType</th>\n",
       "      <th>asin</th>\n",
       "      <th>answerTime</th>\n",
       "      <th>unixTime</th>\n",
       "      <th>question</th>\n",
       "      <th>answerType</th>\n",
       "      <th>answer</th>\n",
       "    </tr>\n",
       "  </thead>\n",
       "  <tbody>\n",
       "    <tr>\n",
       "      <th>0</th>\n",
       "      <td>yes/no</td>\n",
       "      <td>1466736038</td>\n",
       "      <td>Mar 8, 2014</td>\n",
       "      <td>1394265600</td>\n",
       "      <td>Is there a SIM card in it?</td>\n",
       "      <td>Y</td>\n",
       "      <td>Yes. The Galaxy SIII accommodates a micro SIM ...</td>\n",
       "    </tr>\n",
       "    <tr>\n",
       "      <th>1</th>\n",
       "      <td>open-ended</td>\n",
       "      <td>1466736038</td>\n",
       "      <td>Aug 4, 2014</td>\n",
       "      <td>1407135600</td>\n",
       "      <td>Why hasnt it upgraded to latest Android OS 4.4...</td>\n",
       "      <td>Y</td>\n",
       "      <td>My S3 was able to upgrade to 4.4.2 last week, ...</td>\n",
       "    </tr>\n",
       "    <tr>\n",
       "      <th>2</th>\n",
       "      <td>yes/no</td>\n",
       "      <td>1466736038</td>\n",
       "      <td>Jan 29, 2015</td>\n",
       "      <td>1422518400</td>\n",
       "      <td>Is this phone new, with 1 year manufacture war...</td>\n",
       "      <td>?</td>\n",
       "      <td>It is new but I was not able to get it activat...</td>\n",
       "    </tr>\n",
       "  </tbody>\n",
       "</table>\n",
       "</div>"
      ],
      "text/plain": [
       "  questionType        asin    answerTime    unixTime  \\\n",
       "0       yes/no  1466736038   Mar 8, 2014  1394265600   \n",
       "1   open-ended  1466736038   Aug 4, 2014  1407135600   \n",
       "2       yes/no  1466736038  Jan 29, 2015  1422518400   \n",
       "\n",
       "                                            question answerType  \\\n",
       "0                         Is there a SIM card in it?          Y   \n",
       "1  Why hasnt it upgraded to latest Android OS 4.4...          Y   \n",
       "2  Is this phone new, with 1 year manufacture war...          ?   \n",
       "\n",
       "                                              answer  \n",
       "0  Yes. The Galaxy SIII accommodates a micro SIM ...  \n",
       "1  My S3 was able to upgrade to 4.4.2 last week, ...  \n",
       "2  It is new but I was not able to get it activat...  "
      ]
     },
     "execution_count": 222,
     "metadata": {},
     "output_type": "execute_result"
    }
   ],
   "source": [
    "#Para reemplazar un valor especifico\n",
    "df_new.loc[1, 'answerType'] = 'Y'\n",
    "df_new.head(3)"
   ]
  }
 ],
 "metadata": {
  "kernelspec": {
   "display_name": "Python 3 (ipykernel)",
   "language": "python",
   "name": "python3"
  },
  "language_info": {
   "codemirror_mode": {
    "name": "ipython",
    "version": 3
   },
   "file_extension": ".py",
   "mimetype": "text/x-python",
   "name": "python",
   "nbconvert_exporter": "python",
   "pygments_lexer": "ipython3",
   "version": "3.9.7"
  }
 },
 "nbformat": 4,
 "nbformat_minor": 5
}
